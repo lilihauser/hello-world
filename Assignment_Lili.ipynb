{
  "nbformat": 4,
  "nbformat_minor": 0,
  "metadata": {
    "colab": {
      "name": "Assignment_Lili.ipynb",
      "provenance": [],
      "collapsed_sections": [],
      "include_colab_link": true
    },
    "kernelspec": {
      "display_name": "Python 3",
      "language": "python",
      "name": "python3"
    },
    "language_info": {
      "codemirror_mode": {
        "name": "ipython",
        "version": 3
      },
      "file_extension": ".py",
      "mimetype": "text/x-python",
      "name": "python",
      "nbconvert_exporter": "python",
      "pygments_lexer": "ipython3",
      "version": "3.6.9"
    },
    "nteract": {
      "version": "0.22.0"
    }
  },
  "cells": [
    {
      "cell_type": "markdown",
      "metadata": {
        "id": "view-in-github",
        "colab_type": "text"
      },
      "source": [
        "<a href=\"https://colab.research.google.com/github/lilihauser/hello-world/blob/master/Assignment_Lili.ipynb\" target=\"_parent\"><img src=\"https://colab.research.google.com/assets/colab-badge.svg\" alt=\"Open In Colab\"/></a>"
      ]
    },
    {
      "cell_type": "markdown",
      "metadata": {
        "colab_type": "text",
        "id": "kiL5sJ8d49li"
      },
      "source": [
        "# Assignment 1\n",
        "\n",
        "For the first assignment, you will apply what you have learnt in the first labs. You have the opportunity to review and practice data cleaning and also SQL. The first dataset consists of data for loan applications at a bank. One row represents one past loan application, the features of the applicant and whether it was accepted or not. \n",
        "\n",
        "You will apply exploratory data analysis on it. You can use what you learnt previously from the first exercises. The methology behind this assignment is quite similar, but since the dataset is different you should sometimes adapt your code.\n",
        "\n",
        "**Note: After your modifications the dataframe will change. You continue working on the modified version of the dataframe.**"
      ]
    },
    {
      "cell_type": "markdown",
      "metadata": {
        "id": "8pISpDvs90Nq",
        "colab_type": "text"
      },
      "source": [
        "### Important Notice : \n",
        "You are supposed to fill this notebook following the instructions (i.e. writing code in the cells with *#YOUR CODE HERE*). Your code should be able to provide the solution so that you can answer various questions posed in this notebook and in a Moodle Quiz. You'll be evaluated on both readability of the notebook and correctness of the answers given on Moodle.\n",
        "\n",
        "So for this assignment you have to complete this notebook and then (you have to do BOTH!):\n",
        "\n",
        "1. Submit your Python notebook here: https://moodle.unil.ch/mod/assign/view.php?id=787962\n",
        "2. Answer the questions in this Moodle Quiz:\n",
        "https://moodle.unil.ch/mod/quiz/view.php?id=786880 (you can only submit ONCE!)"
      ]
    },
    {
      "cell_type": "code",
      "metadata": {
        "colab_type": "code",
        "id": "diUX6XBRBLYY",
        "colab": {
          "base_uri": "https://localhost:8080/",
          "height": 71
        },
        "outputId": "01a1a71e-2c05-4353-9b38-e204e3e4a53d"
      },
      "source": [
        "#import libraries\n",
        "import pandas as pd\n",
        "import matplotlib.pyplot as plt\n",
        "import seaborn as sns\n",
        "import numpy as np\n",
        "\n",
        "import warnings\n",
        "warnings.filterwarnings('ignore')\n",
        "\n",
        "sns.set(style=\"darkgrid\")\n",
        "pd.set_option('display.max_rows', 500)\n",
        "pd.set_option('display.max_columns', 500)\n",
        "pd.set_option('display.width', 1000)"
      ],
      "execution_count": 3,
      "outputs": [
        {
          "output_type": "stream",
          "text": [
            "/usr/local/lib/python3.6/dist-packages/statsmodels/tools/_testing.py:19: FutureWarning: pandas.util.testing is deprecated. Use the functions in the public API at pandas.testing instead.\n",
            "  import pandas.util.testing as tm\n"
          ],
          "name": "stderr"
        }
      ]
    },
    {
      "cell_type": "markdown",
      "metadata": {
        "colab_type": "text",
        "id": "csfVozoh5Znm"
      },
      "source": [
        "<br>\n",
        "First, load the file from our github link in a Dataframe."
      ]
    },
    {
      "cell_type": "code",
      "metadata": {
        "colab_type": "code",
        "id": "jRS1pzCW5bAN",
        "outputId": "5b0cd274-04d9-41e1-b0df-271010e54ad2",
        "colab": {
          "base_uri": "https://localhost:8080/",
          "height": 34
        }
      },
      "source": [
        "url = 'https://raw.githubusercontent.com/michalis0/Business-Intelligence-and-Analytics/master/data/new_application_train_1.csv'\n",
        "#YOUR CODE HERE\n",
        "data = pd.read_csv(url)\n",
        "#load the file in a dataframe\n",
        "#use the head() command to get a feeling of the data and the columns\n",
        "data.head()\n",
        "#use the proper pandas command to find its dimensions\n",
        "data.shape"
      ],
      "execution_count": 4,
      "outputs": [
        {
          "output_type": "execute_result",
          "data": {
            "text/plain": [
              "(29213, 126)"
            ]
          },
          "metadata": {
            "tags": []
          },
          "execution_count": 4
        }
      ]
    },
    {
      "cell_type": "code",
      "metadata": {
        "id": "nYUXQndgX5q6",
        "colab_type": "code",
        "outputId": "d8216c29-7ac7-4b1f-a1fa-a61f14a76215",
        "colab": {
          "base_uri": "https://localhost:8080/",
          "height": 102
        }
      },
      "source": [
        "data.info()"
      ],
      "execution_count": 5,
      "outputs": [
        {
          "output_type": "stream",
          "text": [
            "<class 'pandas.core.frame.DataFrame'>\n",
            "RangeIndex: 29213 entries, 0 to 29212\n",
            "Columns: 126 entries, Unnamed: 0 to LESS_USE\n",
            "dtypes: float64(65), int64(45), object(16)\n",
            "memory usage: 28.1+ MB\n"
          ],
          "name": "stdout"
        }
      ]
    },
    {
      "cell_type": "markdown",
      "metadata": {
        "id": "OI7B56Cp90N7",
        "colab_type": "text"
      },
      "source": [
        "***Question 1 :***\n",
        "<br>\n",
        "How many rows and columns does the dataset have? (without including the header). "
      ]
    },
    {
      "cell_type": "markdown",
      "metadata": {
        "id": "V62xGBd6aBi9",
        "colab_type": "text"
      },
      "source": [
        "Rows : 29'213\n",
        "Columns : 126"
      ]
    },
    {
      "cell_type": "markdown",
      "metadata": {
        "colab_type": "text",
        "id": "Su1oWFk05bmK"
      },
      "source": [
        "<br>\n",
        "\n",
        "The `'TARGET'` column indicates the people who have been given a loan (value of 0) and the ones who have not (value of 1). Using a barplot, show how many loans were given (TARGET=0) and how many were declined (TARGET=1).\n",
        "\n",
        "**Hint:** Use *plot()* method on the result of *value_count()*"
      ]
    },
    {
      "cell_type": "code",
      "metadata": {
        "id": "yNQ0QPh690N9",
        "colab_type": "code",
        "outputId": "182886c7-2b5c-4f55-da60-ac4710cc3f34",
        "colab": {
          "base_uri": "https://localhost:8080/",
          "height": 339
        }
      },
      "source": [
        "#YOUR CODE HERE\n",
        "loan=pd.value_counts(data['TARGET']==0)\n",
        "ax = loan.plot(kind=\"bar\") \n",
        "ax.set_title(\"People who have been given a loan vs the ones who have not\", size=16)\n",
        "ax.set_xlabel(\"Loans accepted\", size=14)\n",
        "ax.set_ylabel(\"number of people\", size=14)\n"
      ],
      "execution_count": 6,
      "outputs": [
        {
          "output_type": "execute_result",
          "data": {
            "text/plain": [
              "Text(0, 0.5, 'number of people')"
            ]
          },
          "metadata": {
            "tags": []
          },
          "execution_count": 6
        },
        {
          "output_type": "display_data",
          "data": {
            "image/png": "[encoded data removed]",
            "text/plain": [
              "<Figure size 432x288 with 1 Axes>"
            ]
          },
          "metadata": {
            "tags": []
          }
        }
      ]
    },
    {
      "cell_type": "markdown",
      "metadata": {
        "id": "mc0Z3TGT_A2x",
        "colab_type": "text"
      },
      "source": [
        "***Question 2 :*** <br>\n",
        "How many loans were accepted (TARGET = 0) vs declined (TARGET = 1)?"
      ]
    },
    {
      "cell_type": "code",
      "metadata": {
        "id": "UV01Qiwla_ua",
        "colab_type": "code",
        "outputId": "630a1dcd-07be-4d8b-fe2b-b89065d0e138",
        "colab": {
          "base_uri": "https://localhost:8080/",
          "height": 85
        }
      },
      "source": [
        "data_bar = data.groupby(['TARGET'])['Unnamed: 0'].count()\n",
        "data_bar.head()"
      ],
      "execution_count": 7,
      "outputs": [
        {
          "output_type": "execute_result",
          "data": {
            "text/plain": [
              "TARGET\n",
              "0    26753\n",
              "1     2460\n",
              "Name: Unnamed: 0, dtype: int64"
            ]
          },
          "metadata": {
            "tags": []
          },
          "execution_count": 7
        }
      ]
    },
    {
      "cell_type": "markdown",
      "metadata": {
        "colab_type": "text",
        "id": "i2GxdNKx90F8"
      },
      "source": [
        "<br>\n",
        "\n",
        "Use the *describe* method to get some summary statistics about `'DAYS_BIRTH'` and `'DAYS_EMPLOYED'` columns. Do you recognize some weird values ? In the `'DAYS_EMPLOYED'` column, if you plot the histogram, you should see that there are some very large values, distant from the rest of the values. Remove those very large values (eg all the values more than X, you have to decide on the X based on the histogram that you see). These values don't make sense for this column. Plot the histogram of `'DAYS_EMPLOYED'` before and after the removal of those large values and the transformation that we recommend below.\n",
        "<br>\n",
        "\n",
        "\n",
        "**Hint:** The values in those two columns are negative because they correspond to a difference in number of days since the beginning of employment or birth. The following transformation can be useful: \n",
        "- Taking the absolute value (*abs()*) since we want positive numbers\n"
      ]
    },
    {
      "cell_type": "code",
      "metadata": {
        "id": "AZNFMSl3bUHX",
        "colab_type": "code",
        "outputId": "58693206-d255-404d-b08d-7db0216a5385",
        "colab": {
          "base_uri": "https://localhost:8080/",
          "height": 297
        }
      },
      "source": [
        "columns = [\"DAYS_BIRTH\", \"DAYS_EMPLOYED\"]\n",
        "data[columns].describe()"
      ],
      "execution_count": 8,
      "outputs": [
        {
          "output_type": "execute_result",
          "data": {
            "text/html": [
              "<div>\n",
              "<style scoped>\n",
              "    .dataframe tbody tr th:only-of-type {\n",
              "        vertical-align: middle;\n",
              "    }\n",
              "\n",
              "    .dataframe tbody tr th {\n",
              "        vertical-align: top;\n",
              "    }\n",
              "\n",
              "    .dataframe thead th {\n",
              "        text-align: right;\n",
              "    }\n",
              "</style>\n",
              "<table border=\"1\" class=\"dataframe\">\n",
              "  <thead>\n",
              "    <tr style=\"text-align: right;\">\n",
              "      <th></th>\n",
              "      <th>DAYS_BIRTH</th>\n",
              "      <th>DAYS_EMPLOYED</th>\n",
              "    </tr>\n",
              "  </thead>\n",
              "  <tbody>\n",
              "    <tr>\n",
              "      <th>count</th>\n",
              "      <td>29213.000000</td>\n",
              "      <td>29213.000000</td>\n",
              "    </tr>\n",
              "    <tr>\n",
              "      <th>mean</th>\n",
              "      <td>-16056.845001</td>\n",
              "      <td>63648.917331</td>\n",
              "    </tr>\n",
              "    <tr>\n",
              "      <th>std</th>\n",
              "      <td>4343.780979</td>\n",
              "      <td>141152.221072</td>\n",
              "    </tr>\n",
              "    <tr>\n",
              "      <th>min</th>\n",
              "      <td>-25196.000000</td>\n",
              "      <td>-16481.000000</td>\n",
              "    </tr>\n",
              "    <tr>\n",
              "      <th>25%</th>\n",
              "      <td>-19684.000000</td>\n",
              "      <td>-2800.000000</td>\n",
              "    </tr>\n",
              "    <tr>\n",
              "      <th>50%</th>\n",
              "      <td>-15805.000000</td>\n",
              "      <td>-1222.000000</td>\n",
              "    </tr>\n",
              "    <tr>\n",
              "      <th>75%</th>\n",
              "      <td>-12449.000000</td>\n",
              "      <td>-288.000000</td>\n",
              "    </tr>\n",
              "    <tr>\n",
              "      <th>max</th>\n",
              "      <td>-7680.000000</td>\n",
              "      <td>365243.000000</td>\n",
              "    </tr>\n",
              "  </tbody>\n",
              "</table>\n",
              "</div>"
            ],
            "text/plain": [
              "         DAYS_BIRTH  DAYS_EMPLOYED\n",
              "count  29213.000000   29213.000000\n",
              "mean  -16056.845001   63648.917331\n",
              "std     4343.780979  141152.221072\n",
              "min   -25196.000000  -16481.000000\n",
              "25%   -19684.000000   -2800.000000\n",
              "50%   -15805.000000   -1222.000000\n",
              "75%   -12449.000000    -288.000000\n",
              "max    -7680.000000  365243.000000"
            ]
          },
          "metadata": {
            "tags": []
          },
          "execution_count": 8
        }
      ]
    },
    {
      "cell_type": "code",
      "metadata": {
        "id": "L7iodNxlbbjI",
        "colab_type": "code",
        "outputId": "dd12ce63-32c2-47eb-b84e-0f1e5594c048",
        "colab": {
          "base_uri": "https://localhost:8080/",
          "height": 297
        }
      },
      "source": [
        "#YOUR CODE HERE\n",
        "data[columns] = data[columns].abs()\n",
        "data[columns].describe()\n",
        "# do abs transformations\n",
        "# use describe"
      ],
      "execution_count": 9,
      "outputs": [
        {
          "output_type": "execute_result",
          "data": {
            "text/html": [
              "<div>\n",
              "<style scoped>\n",
              "    .dataframe tbody tr th:only-of-type {\n",
              "        vertical-align: middle;\n",
              "    }\n",
              "\n",
              "    .dataframe tbody tr th {\n",
              "        vertical-align: top;\n",
              "    }\n",
              "\n",
              "    .dataframe thead th {\n",
              "        text-align: right;\n",
              "    }\n",
              "</style>\n",
              "<table border=\"1\" class=\"dataframe\">\n",
              "  <thead>\n",
              "    <tr style=\"text-align: right;\">\n",
              "      <th></th>\n",
              "      <th>DAYS_BIRTH</th>\n",
              "      <th>DAYS_EMPLOYED</th>\n",
              "    </tr>\n",
              "  </thead>\n",
              "  <tbody>\n",
              "    <tr>\n",
              "      <th>count</th>\n",
              "      <td>29213.000000</td>\n",
              "      <td>29213.000000</td>\n",
              "    </tr>\n",
              "    <tr>\n",
              "      <th>mean</th>\n",
              "      <td>16056.845001</td>\n",
              "      <td>67580.005682</td>\n",
              "    </tr>\n",
              "    <tr>\n",
              "      <th>std</th>\n",
              "      <td>4343.780979</td>\n",
              "      <td>139312.811196</td>\n",
              "    </tr>\n",
              "    <tr>\n",
              "      <th>min</th>\n",
              "      <td>7680.000000</td>\n",
              "      <td>2.000000</td>\n",
              "    </tr>\n",
              "    <tr>\n",
              "      <th>25%</th>\n",
              "      <td>12449.000000</td>\n",
              "      <td>940.000000</td>\n",
              "    </tr>\n",
              "    <tr>\n",
              "      <th>50%</th>\n",
              "      <td>15805.000000</td>\n",
              "      <td>2236.000000</td>\n",
              "    </tr>\n",
              "    <tr>\n",
              "      <th>75%</th>\n",
              "      <td>19684.000000</td>\n",
              "      <td>5732.000000</td>\n",
              "    </tr>\n",
              "    <tr>\n",
              "      <th>max</th>\n",
              "      <td>25196.000000</td>\n",
              "      <td>365243.000000</td>\n",
              "    </tr>\n",
              "  </tbody>\n",
              "</table>\n",
              "</div>"
            ],
            "text/plain": [
              "         DAYS_BIRTH  DAYS_EMPLOYED\n",
              "count  29213.000000   29213.000000\n",
              "mean   16056.845001   67580.005682\n",
              "std     4343.780979  139312.811196\n",
              "min     7680.000000       2.000000\n",
              "25%    12449.000000     940.000000\n",
              "50%    15805.000000    2236.000000\n",
              "75%    19684.000000    5732.000000\n",
              "max    25196.000000  365243.000000"
            ]
          },
          "metadata": {
            "tags": []
          },
          "execution_count": 9
        }
      ]
    },
    {
      "cell_type": "markdown",
      "metadata": {
        "nteract": {
          "transient": {
            "deleting": false
          }
        },
        "id": "r5D_0v0NPRdu",
        "colab_type": "text"
      },
      "source": [
        "**Answer Note:** Those ages look reasonable. There are no outliers for the age on either the high or low end. Employed days doesn't look right! The maximum value is about 1000 years!"
      ]
    },
    {
      "cell_type": "code",
      "metadata": {
        "jupyter": {
          "source_hidden": false,
          "outputs_hidden": false
        },
        "nteract": {
          "transient": {
            "deleting": false
          }
        },
        "id": "rq3LoBlzPRdv",
        "colab_type": "code",
        "outputId": "2c030321-9449-4da0-b704-022476540e22",
        "colab": {
          "base_uri": "https://localhost:8080/",
          "height": 287
        }
      },
      "source": [
        "#YOUR CODE HERE\n",
        "# do histogram of DAYS_EMPLOYED\n",
        "data['DAYS_EMPLOYED'].hist()\n"
      ],
      "execution_count": 10,
      "outputs": [
        {
          "output_type": "execute_result",
          "data": {
            "text/plain": [
              "<matplotlib.axes._subplots.AxesSubplot at 0x7f7f39624da0>"
            ]
          },
          "metadata": {
            "tags": []
          },
          "execution_count": 10
        },
        {
          "output_type": "display_data",
          "data": {
            "image/png": "[encoded data removed]",
            "text/plain": [
              "<Figure size 432x288 with 1 Axes>"
            ]
          },
          "metadata": {
            "tags": []
          }
        }
      ]
    },
    {
      "cell_type": "code",
      "metadata": {
        "jupyter": {
          "source_hidden": false,
          "outputs_hidden": false
        },
        "nteract": {
          "transient": {
            "deleting": false
          }
        },
        "id": "dfbMjAAGPRd0",
        "colab_type": "code",
        "outputId": "29d49d21-9110-450a-d27d-b1328cd6a334",
        "colab": {
          "base_uri": "https://localhost:8080/",
          "height": 564
        }
      },
      "source": [
        "# YOUR CODE HERE\n",
        "# remove the outliers from DAYS_EMPLOYED column\n",
        "dropped_values = data[data.DAYS_EMPLOYED>50000].index\n",
        "data= data.drop(index=dropped_values)\n",
        "# show the histogram now\n",
        "column = [\"DAYS_EMPLOYED\"]\n",
        "data[column].hist()\n",
        "#data[\"DAYS_EMPLOYED\"].hist()\n",
        "# use the describe on the new values\n",
        "data[column].describe()\n",
        "#data['DAYS_EMPLOYED'].describe()"
      ],
      "execution_count": 11,
      "outputs": [
        {
          "output_type": "execute_result",
          "data": {
            "text/html": [
              "<div>\n",
              "<style scoped>\n",
              "    .dataframe tbody tr th:only-of-type {\n",
              "        vertical-align: middle;\n",
              "    }\n",
              "\n",
              "    .dataframe tbody tr th {\n",
              "        vertical-align: top;\n",
              "    }\n",
              "\n",
              "    .dataframe thead th {\n",
              "        text-align: right;\n",
              "    }\n",
              "</style>\n",
              "<table border=\"1\" class=\"dataframe\">\n",
              "  <thead>\n",
              "    <tr style=\"text-align: right;\">\n",
              "      <th></th>\n",
              "      <th>DAYS_EMPLOYED</th>\n",
              "    </tr>\n",
              "  </thead>\n",
              "  <tbody>\n",
              "    <tr>\n",
              "      <th>count</th>\n",
              "      <td>23965.000000</td>\n",
              "    </tr>\n",
              "    <tr>\n",
              "      <th>mean</th>\n",
              "      <td>2395.970874</td>\n",
              "    </tr>\n",
              "    <tr>\n",
              "      <th>std</th>\n",
              "      <td>2347.353272</td>\n",
              "    </tr>\n",
              "    <tr>\n",
              "      <th>min</th>\n",
              "      <td>2.000000</td>\n",
              "    </tr>\n",
              "    <tr>\n",
              "      <th>25%</th>\n",
              "      <td>767.000000</td>\n",
              "    </tr>\n",
              "    <tr>\n",
              "      <th>50%</th>\n",
              "      <td>1656.000000</td>\n",
              "    </tr>\n",
              "    <tr>\n",
              "      <th>75%</th>\n",
              "      <td>3198.000000</td>\n",
              "    </tr>\n",
              "    <tr>\n",
              "      <th>max</th>\n",
              "      <td>16481.000000</td>\n",
              "    </tr>\n",
              "  </tbody>\n",
              "</table>\n",
              "</div>"
            ],
            "text/plain": [
              "       DAYS_EMPLOYED\n",
              "count   23965.000000\n",
              "mean     2395.970874\n",
              "std      2347.353272\n",
              "min         2.000000\n",
              "25%       767.000000\n",
              "50%      1656.000000\n",
              "75%      3198.000000\n",
              "max     16481.000000"
            ]
          },
          "metadata": {
            "tags": []
          },
          "execution_count": 11
        },
        {
          "output_type": "display_data",
          "data": {
            "image/png": "[encoded data removed]",
            "text/plain": [
              "<Figure size 432x288 with 1 Axes>"
            ]
          },
          "metadata": {
            "tags": []
          }
        }
      ]
    },
    {
      "cell_type": "markdown",
      "metadata": {
        "id": "cqKvrLqC90OV",
        "colab_type": "text"
      },
      "source": [
        "***Question 3:*** <br>\n",
        "After the removal of the outliers, what is the new mean value of `'DAYS_EMPLOYED'` column? (rounded to the nearest integer)"
      ]
    },
    {
      "cell_type": "markdown",
      "metadata": {
        "id": "SbMCbR9gcizN",
        "colab_type": "text"
      },
      "source": [
        "New mean : 2396 days"
      ]
    },
    {
      "cell_type": "markdown",
      "metadata": {
        "id": "KTkM1a0K90OX",
        "colab_type": "text"
      },
      "source": [
        "For each column, compute the number of missing entries and the percentage of the total rows in the column that it represents.\n",
        "\n",
        "**Hint:** Consider summing the null values using the *isnull()* and *sum()* methods "
      ]
    },
    {
      "cell_type": "code",
      "metadata": {
        "id": "AJiYfWJr90OZ",
        "colab_type": "code",
        "outputId": "b9c1e346-b0b2-4b8c-f85a-567efd26ca43",
        "colab": {
          "base_uri": "https://localhost:8080/",
          "height": 1000
        }
      },
      "source": [
        "#YOUR CODE HERE \n",
        "#data.info(), data.isnull().sum()\n",
        "# compute missing values for all columns\n",
        "#data.dropna(inplace=True)\n",
        "# compute percentage of missing values for all columns\n",
        "    x = ['Column_Name','Missing_Data', 'Missing_Data_in_%']\n",
        "    missing_data = pd.DataFrame(columns=x)\n",
        "    columns = data.columns\n",
        "    for col in columns:\n",
        "        icolumn_name = col\n",
        "        imissing_data = data[col].isnull().sum()\n",
        "        imissing_in_percentage = (data[col].isnull().sum()/data[col].shape[0])*100\n",
        "\n",
        "        missing_data.loc[len(missing_data)] = [icolumn_name, imissing_data, imissing_in_percentage]\n",
        "    print(missing_data) \n"
      ],
      "execution_count": 12,
      "outputs": [
        {
          "output_type": "stream",
          "text": [
            "                      Column_Name Missing_Data  Missing_Data_in_%\n",
            "0                      Unnamed: 0            0           0.000000\n",
            "1                    Unnamed: 0.1            0           0.000000\n",
            "2                  Unnamed: 0.1.1            0           0.000000\n",
            "3                      SK_ID_CURR            0           0.000000\n",
            "4                          TARGET            0           0.000000\n",
            "5              NAME_CONTRACT_TYPE            0           0.000000\n",
            "6                     CODE_GENDER            0           0.000000\n",
            "7                    FLAG_OWN_CAR            0           0.000000\n",
            "8                 FLAG_OWN_REALTY            0           0.000000\n",
            "9                    CNT_CHILDREN            0           0.000000\n",
            "10               AMT_INCOME_TOTAL            0           0.000000\n",
            "11                     AMT_CREDIT            0           0.000000\n",
            "12                    AMT_ANNUITY            0           0.000000\n",
            "13                AMT_GOODS_PRICE           25           0.104319\n",
            "14                NAME_TYPE_SUITE           96           0.400584\n",
            "15               NAME_INCOME_TYPE            0           0.000000\n",
            "16            NAME_EDUCATION_TYPE            0           0.000000\n",
            "17             NAME_FAMILY_STATUS            0           0.000000\n",
            "18              NAME_HOUSING_TYPE            0           0.000000\n",
            "19     REGION_POPULATION_RELATIVE            0           0.000000\n",
            "20                     DAYS_BIRTH            0           0.000000\n",
            "21                  DAYS_EMPLOYED            0           0.000000\n",
            "22              DAYS_REGISTRATION            0           0.000000\n",
            "23                DAYS_ID_PUBLISH            0           0.000000\n",
            "24                    OWN_CAR_AGE        14860          62.007094\n",
            "25                     FLAG_MOBIL            0           0.000000\n",
            "26                 FLAG_EMP_PHONE            0           0.000000\n",
            "27                FLAG_WORK_PHONE            0           0.000000\n",
            "28               FLAG_CONT_MOBILE            0           0.000000\n",
            "29                     FLAG_PHONE            0           0.000000\n",
            "30                     FLAG_EMAIL            0           0.000000\n",
            "31                OCCUPATION_TYPE         3923          16.369706\n",
            "32                CNT_FAM_MEMBERS            0           0.000000\n",
            "33           REGION_RATING_CLIENT            0           0.000000\n",
            "34    REGION_RATING_CLIENT_W_CITY            0           0.000000\n",
            "35     WEEKDAY_APPR_PROCESS_START            0           0.000000\n",
            "36        HOUR_APPR_PROCESS_START            0           0.000000\n",
            "37     REG_REGION_NOT_LIVE_REGION            0           0.000000\n",
            "38     REG_REGION_NOT_WORK_REGION            0           0.000000\n",
            "39    LIVE_REGION_NOT_WORK_REGION            0           0.000000\n",
            "40         REG_CITY_NOT_LIVE_CITY            0           0.000000\n",
            "41         REG_CITY_NOT_WORK_CITY            0           0.000000\n",
            "42        LIVE_CITY_NOT_WORK_CITY            0           0.000000\n",
            "43              ORGANIZATION_TYPE            0           0.000000\n",
            "44                   EXT_SOURCE_1        12359          51.571041\n",
            "45                   EXT_SOURCE_2           29           0.121010\n",
            "46                   EXT_SOURCE_3         4749          19.816399\n",
            "47                 APARTMENTS_AVG        11947          49.851867\n",
            "48               BASEMENTAREA_AVG        13846          57.775923\n",
            "49    YEARS_BEGINEXPLUATATION_AVG        11460          47.819737\n",
            "50                YEARS_BUILD_AVG        15810          65.971208\n",
            "51                 COMMONAREA_AVG        16585          69.205091\n",
            "52                  ELEVATORS_AVG        12509          52.196954\n",
            "53                  ENTRANCES_AVG        11846          49.430419\n",
            "54                  FLOORSMAX_AVG        11709          48.858752\n",
            "55                  FLOORSMIN_AVG        16106          67.206343\n",
            "56                   LANDAREA_AVG        13960          58.251617\n",
            "57           LIVINGAPARTMENTS_AVG        16225          67.702900\n",
            "58                 LIVINGAREA_AVG        11831          49.367828\n",
            "59        NONLIVINGAPARTMENTS_AVG        16485          68.787816\n",
            "60              NONLIVINGAREA_AVG        12985          54.183184\n",
            "61                APARTMENTS_MODE        11947          49.851867\n",
            "62              BASEMENTAREA_MODE        13846          57.775923\n",
            "63   YEARS_BEGINEXPLUATATION_MODE        11460          47.819737\n",
            "64               YEARS_BUILD_MODE        15810          65.971208\n",
            "65                COMMONAREA_MODE        16585          69.205091\n",
            "66                 ELEVATORS_MODE        12509          52.196954\n",
            "67                 ENTRANCES_MODE        11846          49.430419\n",
            "68                 FLOORSMAX_MODE        11709          48.858752\n",
            "69                 FLOORSMIN_MODE        16106          67.206343\n",
            "70                  LANDAREA_MODE        13960          58.251617\n",
            "71          LIVINGAPARTMENTS_MODE        16225          67.702900\n",
            "72                LIVINGAREA_MODE        11831          49.367828\n",
            "73       NONLIVINGAPARTMENTS_MODE        16485          68.787816\n",
            "74             NONLIVINGAREA_MODE        12985          54.183184\n",
            "75                APARTMENTS_MEDI        11947          49.851867\n",
            "76              BASEMENTAREA_MEDI        13846          57.775923\n",
            "77   YEARS_BEGINEXPLUATATION_MEDI        11460          47.819737\n",
            "78               YEARS_BUILD_MEDI        15810          65.971208\n",
            "79                COMMONAREA_MEDI        16585          69.205091\n",
            "80                 ELEVATORS_MEDI        12509          52.196954\n",
            "81                 ENTRANCES_MEDI        11846          49.430419\n",
            "82                 FLOORSMAX_MEDI        11709          48.858752\n",
            "83                 FLOORSMIN_MEDI        16106          67.206343\n",
            "84                  LANDAREA_MEDI        13960          58.251617\n",
            "85          LIVINGAPARTMENTS_MEDI        16225          67.702900\n",
            "86                LIVINGAREA_MEDI        11831          49.367828\n",
            "87       NONLIVINGAPARTMENTS_MEDI        16485          68.787816\n",
            "88             NONLIVINGAREA_MEDI        12985          54.183184\n",
            "89             FONDKAPREMONT_MODE        16245          67.786355\n",
            "90                 HOUSETYPE_MODE        11810          49.280200\n",
            "91                 TOTALAREA_MODE        11374          47.460880\n",
            "92             WALLSMATERIAL_MODE        11981          49.993741\n",
            "93            EMERGENCYSTATE_MODE        11184          46.668058\n",
            "94       OBS_30_CNT_SOCIAL_CIRCLE           71           0.296265\n",
            "95       DEF_30_CNT_SOCIAL_CIRCLE           71           0.296265\n",
            "96       OBS_60_CNT_SOCIAL_CIRCLE           71           0.296265\n",
            "97       DEF_60_CNT_SOCIAL_CIRCLE           71           0.296265\n",
            "98         DAYS_LAST_PHONE_CHANGE            0           0.000000\n",
            "99                FLAG_DOCUMENT_2            0           0.000000\n",
            "100               FLAG_DOCUMENT_3            0           0.000000\n",
            "101               FLAG_DOCUMENT_4            0           0.000000\n",
            "102               FLAG_DOCUMENT_5            0           0.000000\n",
            "103               FLAG_DOCUMENT_6            0           0.000000\n",
            "104               FLAG_DOCUMENT_7            0           0.000000\n",
            "105               FLAG_DOCUMENT_8            0           0.000000\n",
            "106               FLAG_DOCUMENT_9            0           0.000000\n",
            "107              FLAG_DOCUMENT_10            0           0.000000\n",
            "108              FLAG_DOCUMENT_11            0           0.000000\n",
            "109              FLAG_DOCUMENT_12            0           0.000000\n",
            "110              FLAG_DOCUMENT_13            0           0.000000\n",
            "111              FLAG_DOCUMENT_14            0           0.000000\n",
            "112              FLAG_DOCUMENT_15            0           0.000000\n",
            "113              FLAG_DOCUMENT_16            0           0.000000\n",
            "114              FLAG_DOCUMENT_17            0           0.000000\n",
            "115              FLAG_DOCUMENT_18            0           0.000000\n",
            "116              FLAG_DOCUMENT_19            0           0.000000\n",
            "117              FLAG_DOCUMENT_20            0           0.000000\n",
            "118              FLAG_DOCUMENT_21            0           0.000000\n",
            "119    AMT_REQ_CREDIT_BUREAU_HOUR         3230          13.477989\n",
            "120     AMT_REQ_CREDIT_BUREAU_DAY         3230          13.477989\n",
            "121    AMT_REQ_CREDIT_BUREAU_WEEK         3230          13.477989\n",
            "122     AMT_REQ_CREDIT_BUREAU_MON         3230          13.477989\n",
            "123     AMT_REQ_CREDIT_BUREAU_QRT         3230          13.477989\n",
            "124    AMT_REQ_CREDIT_BUREAU_YEAR         3230          13.477989\n",
            "125                      LESS_USE            0           0.000000\n"
          ],
          "name": "stdout"
        }
      ]
    },
    {
      "cell_type": "markdown",
      "metadata": {
        "id": "sVypY-G890Od",
        "colab_type": "text"
      },
      "source": [
        "***Question 4:*** <br>\n",
        "What is the number of missing values for the column `'OWN_CAR_AGE'`? "
      ]
    },
    {
      "cell_type": "markdown",
      "metadata": {
        "id": "QQv5WTDpeeJe",
        "colab_type": "text"
      },
      "source": [
        "14'860"
      ]
    },
    {
      "cell_type": "markdown",
      "metadata": {
        "id": "2PoxiYdw90Og",
        "colab_type": "text"
      },
      "source": [
        "***Question 5:*** <br>\n",
        "What is the percentage of missing values for the column `'COMMONAREA_MODE'`? (rounded to the nearest integer)"
      ]
    },
    {
      "cell_type": "markdown",
      "metadata": {
        "id": "K_wWlJg4MMH9",
        "colab_type": "text"
      },
      "source": [
        "69%"
      ]
    },
    {
      "cell_type": "markdown",
      "metadata": {
        "id": "bVBkCDrw90Oj",
        "colab_type": "text"
      },
      "source": [
        "Write some code to get the datatype (int64, float64...) of each column. For this just show the datatype of the columns as recognized by the default loading of the csv file (use command dtypes). Also count how many of each datatype you have."
      ]
    },
    {
      "cell_type": "code",
      "metadata": {
        "scrolled": true,
        "id": "PsQ9FZi_90Ol",
        "colab_type": "code",
        "outputId": "03cc1352-5187-4e06-b911-cb1b9162c5b6",
        "colab": {
          "base_uri": "https://localhost:8080/",
          "height": 102
        }
      },
      "source": [
        "#YOUR CODE HERE\n",
        "data.dtypes\n",
        "data.info()"
      ],
      "execution_count": 13,
      "outputs": [
        {
          "output_type": "stream",
          "text": [
            "<class 'pandas.core.frame.DataFrame'>\n",
            "Int64Index: 23965 entries, 1 to 29212\n",
            "Columns: 126 entries, Unnamed: 0 to LESS_USE\n",
            "dtypes: float64(65), int64(45), object(16)\n",
            "memory usage: 23.2+ MB\n"
          ],
          "name": "stdout"
        }
      ]
    },
    {
      "cell_type": "markdown",
      "metadata": {
        "colab_type": "text",
        "id": "PBo009Fz9oMT"
      },
      "source": [
        "***Question 6:*** <br>\n",
        "How many variables are numeric continuous (ie, “float64”) ? "
      ]
    },
    {
      "cell_type": "markdown",
      "metadata": {
        "id": "AvYrT7D2gANY",
        "colab_type": "text"
      },
      "source": [
        "65"
      ]
    },
    {
      "cell_type": "markdown",
      "metadata": {
        "id": "6JQeonG990Ot",
        "colab_type": "text"
      },
      "source": [
        "***Question 7:*** <br>\n",
        "How many variables are numeric discrete (ie, “int64”) ? "
      ]
    },
    {
      "cell_type": "markdown",
      "metadata": {
        "id": "udBkriw1gBv-",
        "colab_type": "text"
      },
      "source": [
        "45"
      ]
    },
    {
      "cell_type": "markdown",
      "metadata": {
        "id": "DTlnIlRi90Ov",
        "colab_type": "text"
      },
      "source": [
        "***Question 8:*** <br>\n",
        "How many variables are categorical (ie, “object”) ? "
      ]
    },
    {
      "cell_type": "markdown",
      "metadata": {
        "id": "IQQP8NfwgDPB",
        "colab_type": "text"
      },
      "source": [
        "16"
      ]
    },
    {
      "cell_type": "markdown",
      "metadata": {
        "id": "CLEc6hqm90Ow",
        "colab_type": "text"
      },
      "source": [
        "Convert the column `'FLAG_CONT_MOBILE'` of our dataframe to a categorical variable."
      ]
    },
    {
      "cell_type": "code",
      "metadata": {
        "id": "tCojgoNM90Ox",
        "colab_type": "code",
        "colab": {}
      },
      "source": [
        "#YOUR CODE HERE \n",
        "data['FLAG_CONT_MOBILE'] = pd.Categorical(data['FLAG_CONT_MOBILE'])"
      ],
      "execution_count": 0,
      "outputs": []
    },
    {
      "cell_type": "markdown",
      "metadata": {
        "colab_type": "text",
        "id": "80H0kveN92_q"
      },
      "source": [
        "<br>\n",
        "\n",
        "Remove the NULL values (use the dropna function) and plot the distribution of the `AMT_CREDIT` and the `AMT_GOODS_PRICE`."
      ]
    },
    {
      "cell_type": "code",
      "metadata": {
        "colab_type": "code",
        "id": "ak9etQR4oh4F",
        "scrolled": false,
        "outputId": "c44cb8b3-58f5-4c72-af1a-0c2dce91a672",
        "colab": {
          "base_uri": "https://localhost:8080/",
          "height": 298
        }
      },
      "source": [
        "# drop null values\n",
        "#YOUR CODE HERE\n",
        "data_na = data.dropna()\n",
        "# plot histogram 1\n",
        "#YOUR CODE HERE\n",
        "data_na['AMT_CREDIT'].hist(bins=25)\n",
        "# plot histogram 2\n",
        "#YOUR CODE HERE\n",
        "data_na[\"AMT_GOODS_PRICE\"].hist(bins=25)\n",
        "#Label\n",
        "plt.legend(['AMT_CREDIT','AMT_GOODS_PRICE'])"
      ],
      "execution_count": 15,
      "outputs": [
        {
          "output_type": "execute_result",
          "data": {
            "text/plain": [
              "<matplotlib.legend.Legend at 0x7f7f38f78f28>"
            ]
          },
          "metadata": {
            "tags": []
          },
          "execution_count": 15
        },
        {
          "output_type": "display_data",
          "data": {
            "image/png": "[encoded data removed]",
            "text/plain": [
              "<Figure size 432x288 with 1 Axes>"
            ]
          },
          "metadata": {
            "tags": []
          }
        }
      ]
    },
    {
      "cell_type": "markdown",
      "metadata": {
        "id": "TnaB3bhL90O-",
        "colab_type": "text"
      },
      "source": [
        "***Question 9:***<br>\n",
        "What distribution does the `AMT_CREDIT` and the `AMT_GOODS_PRICE` histogram resemble?\n",
        "\n",
        "- Gaussian\n",
        "- Uniform\n",
        "- None of the above\n"
      ]
    },
    {
      "cell_type": "markdown",
      "metadata": {
        "id": "b1CwbovLhuhn",
        "colab_type": "text"
      },
      "source": [
        "None of the above"
      ]
    },
    {
      "cell_type": "markdown",
      "metadata": {
        "id": "pIduqgF-90O_",
        "colab_type": "text"
      },
      "source": [
        "\n",
        "Create a pie chart that shows proportion of different values in the column ``'NAME_INCOME_TYPE'`` (income sources of applicant's who applied for loan). You have to count the number of loans for each type and show are a pie chart.\n",
        "\n",
        "**Hint:** Having a new Dataframe with the *index* and *values* of the result of *value_counts()* will make this plot easy"
      ]
    },
    {
      "cell_type": "code",
      "metadata": {
        "colab_type": "code",
        "id": "FlsJ2dLEoh4L",
        "scrolled": false,
        "outputId": "4e88c7dd-7f01-43ee-ad4c-2eb70c0e1920",
        "colab": {
          "base_uri": "https://localhost:8080/",
          "height": 609
        }
      },
      "source": [
        "#YOUR CODE HERE\n",
        "data_pie = data_na.groupby([\"NAME_INCOME_TYPE\"])[\"NAME_INCOME_TYPE\"].count()\n",
        "ax = data_pie.plot(kind=\"pie\", figsize=(10,10), autopct=\"%1.1f%%\")\n",
        "ax.set_title(\"Proportion of different values in the column 'NAME_INCOME_TYPE' \", size=16)\n",
        "ax.set_ylabel(\"\")"
      ],
      "execution_count": 16,
      "outputs": [
        {
          "output_type": "execute_result",
          "data": {
            "text/plain": [
              "Text(0, 0.5, '')"
            ]
          },
          "metadata": {
            "tags": []
          },
          "execution_count": 16
        },
        {
          "output_type": "display_data",
          "data": {
            "image/png": "[encoded data removed]",
            "text/plain": [
              "<Figure size 720x720 with 1 Axes>"
            ]
          },
          "metadata": {
            "tags": []
          }
        }
      ]
    },
    {
      "cell_type": "markdown",
      "metadata": {
        "id": "eaGeCPAy90PG",
        "colab_type": "text"
      },
      "source": [
        "***Question 10*** : <br>\n",
        "What is the percentage of rows that had the value 'Commercial associate' in that column (rounded to the nearest integer, just the number of the percentage without the %, only an integer in the quiz)"
      ]
    },
    {
      "cell_type": "markdown",
      "metadata": {
        "id": "f02kkgVniHnV",
        "colab_type": "text"
      },
      "source": [
        "31%"
      ]
    },
    {
      "cell_type": "markdown",
      "metadata": {
        "id": "Oa_HM0A690PI",
        "colab_type": "text"
      },
      "source": [
        "Select the rows where `'NAME_CONTRACT_TYPE'` is *Cash loans* and `'AMT_INCOME_TOTAL'` is bigger than 225000"
      ]
    },
    {
      "cell_type": "code",
      "metadata": {
        "id": "bLST7tzm90PJ",
        "colab_type": "code",
        "outputId": "4d88736a-4246-4511-dd1b-606d11411e69",
        "colab": {
          "base_uri": "https://localhost:8080/",
          "height": 609
        }
      },
      "source": [
        "#YOUR CODE HERE\n",
        "#data[data['NAME_CONTRACT_TYPE']=='Cash loans'][data['AMT_INCOME_TOTAL']>225000].shape\n",
        "data.loc[(data['AMT_INCOME_TOTAL'] > 225000) & (data['NAME_CONTRACT_TYPE'].str.match('Cash loans'))]\n"
      ],
      "execution_count": 17,
      "outputs": [
        {
          "output_type": "execute_result",
          "data": {
            "text/html": [
              "<div>\n",
              "<style scoped>\n",
              "    .dataframe tbody tr th:only-of-type {\n",
              "        vertical-align: middle;\n",
              "    }\n",
              "\n",
              "    .dataframe tbody tr th {\n",
              "        vertical-align: top;\n",
              "    }\n",
              "\n",
              "    .dataframe thead th {\n",
              "        text-align: right;\n",
              "    }\n",
              "</style>\n",
              "<table border=\"1\" class=\"dataframe\">\n",
              "  <thead>\n",
              "    <tr style=\"text-align: right;\">\n",
              "      <th></th>\n",
              "      <th>Unnamed: 0</th>\n",
              "      <th>Unnamed: 0.1</th>\n",
              "      <th>Unnamed: 0.1.1</th>\n",
              "      <th>SK_ID_CURR</th>\n",
              "      <th>TARGET</th>\n",
              "      <th>NAME_CONTRACT_TYPE</th>\n",
              "      <th>CODE_GENDER</th>\n",
              "      <th>FLAG_OWN_CAR</th>\n",
              "      <th>FLAG_OWN_REALTY</th>\n",
              "      <th>CNT_CHILDREN</th>\n",
              "      <th>AMT_INCOME_TOTAL</th>\n",
              "      <th>AMT_CREDIT</th>\n",
              "      <th>AMT_ANNUITY</th>\n",
              "      <th>AMT_GOODS_PRICE</th>\n",
              "      <th>NAME_TYPE_SUITE</th>\n",
              "      <th>NAME_INCOME_TYPE</th>\n",
              "      <th>NAME_EDUCATION_TYPE</th>\n",
              "      <th>NAME_FAMILY_STATUS</th>\n",
              "      <th>NAME_HOUSING_TYPE</th>\n",
              "      <th>REGION_POPULATION_RELATIVE</th>\n",
              "      <th>DAYS_BIRTH</th>\n",
              "      <th>DAYS_EMPLOYED</th>\n",
              "      <th>DAYS_REGISTRATION</th>\n",
              "      <th>DAYS_ID_PUBLISH</th>\n",
              "      <th>OWN_CAR_AGE</th>\n",
              "      <th>FLAG_MOBIL</th>\n",
              "      <th>FLAG_EMP_PHONE</th>\n",
              "      <th>FLAG_WORK_PHONE</th>\n",
              "      <th>FLAG_CONT_MOBILE</th>\n",
              "      <th>FLAG_PHONE</th>\n",
              "      <th>FLAG_EMAIL</th>\n",
              "      <th>OCCUPATION_TYPE</th>\n",
              "      <th>CNT_FAM_MEMBERS</th>\n",
              "      <th>REGION_RATING_CLIENT</th>\n",
              "      <th>REGION_RATING_CLIENT_W_CITY</th>\n",
              "      <th>WEEKDAY_APPR_PROCESS_START</th>\n",
              "      <th>HOUR_APPR_PROCESS_START</th>\n",
              "      <th>REG_REGION_NOT_LIVE_REGION</th>\n",
              "      <th>REG_REGION_NOT_WORK_REGION</th>\n",
              "      <th>LIVE_REGION_NOT_WORK_REGION</th>\n",
              "      <th>REG_CITY_NOT_LIVE_CITY</th>\n",
              "      <th>REG_CITY_NOT_WORK_CITY</th>\n",
              "      <th>LIVE_CITY_NOT_WORK_CITY</th>\n",
              "      <th>ORGANIZATION_TYPE</th>\n",
              "      <th>EXT_SOURCE_1</th>\n",
              "      <th>EXT_SOURCE_2</th>\n",
              "      <th>EXT_SOURCE_3</th>\n",
              "      <th>APARTMENTS_AVG</th>\n",
              "      <th>BASEMENTAREA_AVG</th>\n",
              "      <th>YEARS_BEGINEXPLUATATION_AVG</th>\n",
              "      <th>YEARS_BUILD_AVG</th>\n",
              "      <th>COMMONAREA_AVG</th>\n",
              "      <th>ELEVATORS_AVG</th>\n",
              "      <th>ENTRANCES_AVG</th>\n",
              "      <th>FLOORSMAX_AVG</th>\n",
              "      <th>FLOORSMIN_AVG</th>\n",
              "      <th>LANDAREA_AVG</th>\n",
              "      <th>LIVINGAPARTMENTS_AVG</th>\n",
              "      <th>LIVINGAREA_AVG</th>\n",
              "      <th>NONLIVINGAPARTMENTS_AVG</th>\n",
              "      <th>NONLIVINGAREA_AVG</th>\n",
              "      <th>APARTMENTS_MODE</th>\n",
              "      <th>BASEMENTAREA_MODE</th>\n",
              "      <th>YEARS_BEGINEXPLUATATION_MODE</th>\n",
              "      <th>YEARS_BUILD_MODE</th>\n",
              "      <th>COMMONAREA_MODE</th>\n",
              "      <th>ELEVATORS_MODE</th>\n",
              "      <th>ENTRANCES_MODE</th>\n",
              "      <th>FLOORSMAX_MODE</th>\n",
              "      <th>FLOORSMIN_MODE</th>\n",
              "      <th>LANDAREA_MODE</th>\n",
              "      <th>LIVINGAPARTMENTS_MODE</th>\n",
              "      <th>LIVINGAREA_MODE</th>\n",
              "      <th>NONLIVINGAPARTMENTS_MODE</th>\n",
              "      <th>NONLIVINGAREA_MODE</th>\n",
              "      <th>APARTMENTS_MEDI</th>\n",
              "      <th>BASEMENTAREA_MEDI</th>\n",
              "      <th>YEARS_BEGINEXPLUATATION_MEDI</th>\n",
              "      <th>YEARS_BUILD_MEDI</th>\n",
              "      <th>COMMONAREA_MEDI</th>\n",
              "      <th>ELEVATORS_MEDI</th>\n",
              "      <th>ENTRANCES_MEDI</th>\n",
              "      <th>FLOORSMAX_MEDI</th>\n",
              "      <th>FLOORSMIN_MEDI</th>\n",
              "      <th>LANDAREA_MEDI</th>\n",
              "      <th>LIVINGAPARTMENTS_MEDI</th>\n",
              "      <th>LIVINGAREA_MEDI</th>\n",
              "      <th>NONLIVINGAPARTMENTS_MEDI</th>\n",
              "      <th>NONLIVINGAREA_MEDI</th>\n",
              "      <th>FONDKAPREMONT_MODE</th>\n",
              "      <th>HOUSETYPE_MODE</th>\n",
              "      <th>TOTALAREA_MODE</th>\n",
              "      <th>WALLSMATERIAL_MODE</th>\n",
              "      <th>EMERGENCYSTATE_MODE</th>\n",
              "      <th>OBS_30_CNT_SOCIAL_CIRCLE</th>\n",
              "      <th>DEF_30_CNT_SOCIAL_CIRCLE</th>\n",
              "      <th>OBS_60_CNT_SOCIAL_CIRCLE</th>\n",
              "      <th>DEF_60_CNT_SOCIAL_CIRCLE</th>\n",
              "      <th>DAYS_LAST_PHONE_CHANGE</th>\n",
              "      <th>FLAG_DOCUMENT_2</th>\n",
              "      <th>FLAG_DOCUMENT_3</th>\n",
              "      <th>FLAG_DOCUMENT_4</th>\n",
              "      <th>FLAG_DOCUMENT_5</th>\n",
              "      <th>FLAG_DOCUMENT_6</th>\n",
              "      <th>FLAG_DOCUMENT_7</th>\n",
              "      <th>FLAG_DOCUMENT_8</th>\n",
              "      <th>FLAG_DOCUMENT_9</th>\n",
              "      <th>FLAG_DOCUMENT_10</th>\n",
              "      <th>FLAG_DOCUMENT_11</th>\n",
              "      <th>FLAG_DOCUMENT_12</th>\n",
              "      <th>FLAG_DOCUMENT_13</th>\n",
              "      <th>FLAG_DOCUMENT_14</th>\n",
              "      <th>FLAG_DOCUMENT_15</th>\n",
              "      <th>FLAG_DOCUMENT_16</th>\n",
              "      <th>FLAG_DOCUMENT_17</th>\n",
              "      <th>FLAG_DOCUMENT_18</th>\n",
              "      <th>FLAG_DOCUMENT_19</th>\n",
              "      <th>FLAG_DOCUMENT_20</th>\n",
              "      <th>FLAG_DOCUMENT_21</th>\n",
              "      <th>AMT_REQ_CREDIT_BUREAU_HOUR</th>\n",
              "      <th>AMT_REQ_CREDIT_BUREAU_DAY</th>\n",
              "      <th>AMT_REQ_CREDIT_BUREAU_WEEK</th>\n",
              "      <th>AMT_REQ_CREDIT_BUREAU_MON</th>\n",
              "      <th>AMT_REQ_CREDIT_BUREAU_QRT</th>\n",
              "      <th>AMT_REQ_CREDIT_BUREAU_YEAR</th>\n",
              "      <th>LESS_USE</th>\n",
              "    </tr>\n",
              "  </thead>\n",
              "  <tbody>\n",
              "    <tr>\n",
              "      <th>11</th>\n",
              "      <td>11</td>\n",
              "      <td>11</td>\n",
              "      <td>27354</td>\n",
              "      <td>131790</td>\n",
              "      <td>0</td>\n",
              "      <td>Cash loans</td>\n",
              "      <td>M</td>\n",
              "      <td>N</td>\n",
              "      <td>N</td>\n",
              "      <td>0</td>\n",
              "      <td>283500.0</td>\n",
              "      <td>808650.0</td>\n",
              "      <td>26086.5</td>\n",
              "      <td>675000.0</td>\n",
              "      <td>Unaccompanied</td>\n",
              "      <td>Working</td>\n",
              "      <td>Secondary / secondary special</td>\n",
              "      <td>Married</td>\n",
              "      <td>House / apartment</td>\n",
              "      <td>0.022800</td>\n",
              "      <td>13210</td>\n",
              "      <td>1073</td>\n",
              "      <td>-869.0</td>\n",
              "      <td>-2703</td>\n",
              "      <td>NaN</td>\n",
              "      <td>1</td>\n",
              "      <td>1</td>\n",
              "      <td>0</td>\n",
              "      <td>1</td>\n",
              "      <td>0</td>\n",
              "      <td>0</td>\n",
              "      <td>Laborers</td>\n",
              "      <td>2.0</td>\n",
              "      <td>2</td>\n",
              "      <td>2</td>\n",
              "      <td>THURSDAY</td>\n",
              "      <td>7</td>\n",
              "      <td>0</td>\n",
              "      <td>0</td>\n",
              "      <td>0</td>\n",
              "      <td>0</td>\n",
              "      <td>0</td>\n",
              "      <td>0</td>\n",
              "      <td>Industry: type 4</td>\n",
              "      <td>0.330076</td>\n",
              "      <td>0.565274</td>\n",
              "      <td>0.199771</td>\n",
              "      <td>0.0278</td>\n",
              "      <td>0.0704</td>\n",
              "      <td>0.9851</td>\n",
              "      <td>0.7960</td>\n",
              "      <td>0.0057</td>\n",
              "      <td>0.0000</td>\n",
              "      <td>0.1034</td>\n",
              "      <td>0.0833</td>\n",
              "      <td>0.1250</td>\n",
              "      <td>0.0284</td>\n",
              "      <td>0.0227</td>\n",
              "      <td>0.0304</td>\n",
              "      <td>0.0000</td>\n",
              "      <td>0.0000</td>\n",
              "      <td>0.0284</td>\n",
              "      <td>0.0730</td>\n",
              "      <td>0.9851</td>\n",
              "      <td>0.8040</td>\n",
              "      <td>0.0057</td>\n",
              "      <td>0.0000</td>\n",
              "      <td>0.1034</td>\n",
              "      <td>0.0833</td>\n",
              "      <td>0.1250</td>\n",
              "      <td>0.0290</td>\n",
              "      <td>0.0248</td>\n",
              "      <td>0.0317</td>\n",
              "      <td>0.0000</td>\n",
              "      <td>0.0000</td>\n",
              "      <td>0.0281</td>\n",
              "      <td>0.0704</td>\n",
              "      <td>0.9851</td>\n",
              "      <td>0.7987</td>\n",
              "      <td>0.0057</td>\n",
              "      <td>0.00</td>\n",
              "      <td>0.1034</td>\n",
              "      <td>0.0833</td>\n",
              "      <td>0.1250</td>\n",
              "      <td>0.0289</td>\n",
              "      <td>0.0231</td>\n",
              "      <td>0.0309</td>\n",
              "      <td>0.0000</td>\n",
              "      <td>0.0000</td>\n",
              "      <td>reg oper account</td>\n",
              "      <td>block of flats</td>\n",
              "      <td>0.0239</td>\n",
              "      <td>Stone, brick</td>\n",
              "      <td>No</td>\n",
              "      <td>1.0</td>\n",
              "      <td>0.0</td>\n",
              "      <td>1.0</td>\n",
              "      <td>0.0</td>\n",
              "      <td>-2233.0</td>\n",
              "      <td>0</td>\n",
              "      <td>1</td>\n",
              "      <td>0</td>\n",
              "      <td>0</td>\n",
              "      <td>0</td>\n",
              "      <td>0</td>\n",
              "      <td>0</td>\n",
              "      <td>0</td>\n",
              "      <td>0</td>\n",
              "      <td>0</td>\n",
              "      <td>0</td>\n",
              "      <td>0</td>\n",
              "      <td>0</td>\n",
              "      <td>0</td>\n",
              "      <td>0</td>\n",
              "      <td>0</td>\n",
              "      <td>0</td>\n",
              "      <td>0</td>\n",
              "      <td>0</td>\n",
              "      <td>0</td>\n",
              "      <td>0.0</td>\n",
              "      <td>0.0</td>\n",
              "      <td>0.0</td>\n",
              "      <td>0.0</td>\n",
              "      <td>0.0</td>\n",
              "      <td>0.0</td>\n",
              "      <td>999999</td>\n",
              "    </tr>\n",
              "    <tr>\n",
              "      <th>15</th>\n",
              "      <td>15</td>\n",
              "      <td>15</td>\n",
              "      <td>132164</td>\n",
              "      <td>253286</td>\n",
              "      <td>0</td>\n",
              "      <td>Cash loans</td>\n",
              "      <td>F</td>\n",
              "      <td>N</td>\n",
              "      <td>N</td>\n",
              "      <td>0</td>\n",
              "      <td>238500.0</td>\n",
              "      <td>263686.5</td>\n",
              "      <td>25816.5</td>\n",
              "      <td>238500.0</td>\n",
              "      <td>Unaccompanied</td>\n",
              "      <td>Commercial associate</td>\n",
              "      <td>Secondary / secondary special</td>\n",
              "      <td>Single / not married</td>\n",
              "      <td>Municipal apartment</td>\n",
              "      <td>0.020713</td>\n",
              "      <td>19989</td>\n",
              "      <td>1031</td>\n",
              "      <td>-9591.0</td>\n",
              "      <td>-3512</td>\n",
              "      <td>NaN</td>\n",
              "      <td>1</td>\n",
              "      <td>1</td>\n",
              "      <td>0</td>\n",
              "      <td>1</td>\n",
              "      <td>0</td>\n",
              "      <td>0</td>\n",
              "      <td>Sales staff</td>\n",
              "      <td>1.0</td>\n",
              "      <td>3</td>\n",
              "      <td>2</td>\n",
              "      <td>THURSDAY</td>\n",
              "      <td>7</td>\n",
              "      <td>0</td>\n",
              "      <td>0</td>\n",
              "      <td>0</td>\n",
              "      <td>0</td>\n",
              "      <td>0</td>\n",
              "      <td>0</td>\n",
              "      <td>Trade: type 7</td>\n",
              "      <td>NaN</td>\n",
              "      <td>0.661113</td>\n",
              "      <td>0.265049</td>\n",
              "      <td>0.0093</td>\n",
              "      <td>0.0000</td>\n",
              "      <td>0.9593</td>\n",
              "      <td>0.4424</td>\n",
              "      <td>0.0096</td>\n",
              "      <td>0.0000</td>\n",
              "      <td>0.0690</td>\n",
              "      <td>0.0417</td>\n",
              "      <td>0.0833</td>\n",
              "      <td>0.0000</td>\n",
              "      <td>0.0076</td>\n",
              "      <td>0.0097</td>\n",
              "      <td>0.0000</td>\n",
              "      <td>0.0000</td>\n",
              "      <td>0.0095</td>\n",
              "      <td>0.0000</td>\n",
              "      <td>0.9593</td>\n",
              "      <td>0.4642</td>\n",
              "      <td>0.0096</td>\n",
              "      <td>0.0000</td>\n",
              "      <td>0.0690</td>\n",
              "      <td>0.0417</td>\n",
              "      <td>0.0833</td>\n",
              "      <td>0.0000</td>\n",
              "      <td>0.0083</td>\n",
              "      <td>0.0101</td>\n",
              "      <td>0.0000</td>\n",
              "      <td>0.0000</td>\n",
              "      <td>0.0094</td>\n",
              "      <td>0.0000</td>\n",
              "      <td>0.9593</td>\n",
              "      <td>0.4499</td>\n",
              "      <td>0.0096</td>\n",
              "      <td>0.00</td>\n",
              "      <td>0.0690</td>\n",
              "      <td>0.0417</td>\n",
              "      <td>0.0833</td>\n",
              "      <td>0.0000</td>\n",
              "      <td>0.0077</td>\n",
              "      <td>0.0099</td>\n",
              "      <td>0.0000</td>\n",
              "      <td>0.0000</td>\n",
              "      <td>reg oper account</td>\n",
              "      <td>block of flats</td>\n",
              "      <td>0.0129</td>\n",
              "      <td>Wooden</td>\n",
              "      <td>Yes</td>\n",
              "      <td>1.0</td>\n",
              "      <td>0.0</td>\n",
              "      <td>1.0</td>\n",
              "      <td>0.0</td>\n",
              "      <td>-1600.0</td>\n",
              "      <td>0</td>\n",
              "      <td>1</td>\n",
              "      <td>0</td>\n",
              "      <td>0</td>\n",
              "      <td>0</td>\n",
              "      <td>0</td>\n",
              "      <td>0</td>\n",
              "      <td>0</td>\n",
              "      <td>0</td>\n",
              "      <td>0</td>\n",
              "      <td>0</td>\n",
              "      <td>0</td>\n",
              "      <td>0</td>\n",
              "      <td>0</td>\n",
              "      <td>0</td>\n",
              "      <td>0</td>\n",
              "      <td>0</td>\n",
              "      <td>0</td>\n",
              "      <td>0</td>\n",
              "      <td>0</td>\n",
              "      <td>0.0</td>\n",
              "      <td>0.0</td>\n",
              "      <td>0.0</td>\n",
              "      <td>0.0</td>\n",
              "      <td>0.0</td>\n",
              "      <td>4.0</td>\n",
              "      <td>999999</td>\n",
              "    </tr>\n",
              "    <tr>\n",
              "      <th>26</th>\n",
              "      <td>26</td>\n",
              "      <td>26</td>\n",
              "      <td>230552</td>\n",
              "      <td>367051</td>\n",
              "      <td>0</td>\n",
              "      <td>Cash loans</td>\n",
              "      <td>F</td>\n",
              "      <td>Y</td>\n",
              "      <td>Y</td>\n",
              "      <td>1</td>\n",
              "      <td>279000.0</td>\n",
              "      <td>450000.0</td>\n",
              "      <td>22977.0</td>\n",
              "      <td>450000.0</td>\n",
              "      <td>Family</td>\n",
              "      <td>Working</td>\n",
              "      <td>Higher education</td>\n",
              "      <td>Civil marriage</td>\n",
              "      <td>House / apartment</td>\n",
              "      <td>0.019101</td>\n",
              "      <td>16187</td>\n",
              "      <td>3731</td>\n",
              "      <td>-9530.0</td>\n",
              "      <td>-4643</td>\n",
              "      <td>4.0</td>\n",
              "      <td>1</td>\n",
              "      <td>1</td>\n",
              "      <td>1</td>\n",
              "      <td>1</td>\n",
              "      <td>1</td>\n",
              "      <td>0</td>\n",
              "      <td>Managers</td>\n",
              "      <td>3.0</td>\n",
              "      <td>2</td>\n",
              "      <td>2</td>\n",
              "      <td>SATURDAY</td>\n",
              "      <td>13</td>\n",
              "      <td>0</td>\n",
              "      <td>0</td>\n",
              "      <td>0</td>\n",
              "      <td>0</td>\n",
              "      <td>0</td>\n",
              "      <td>0</td>\n",
              "      <td>Medicine</td>\n",
              "      <td>NaN</td>\n",
              "      <td>0.628690</td>\n",
              "      <td>NaN</td>\n",
              "      <td>NaN</td>\n",
              "      <td>NaN</td>\n",
              "      <td>NaN</td>\n",
              "      <td>NaN</td>\n",
              "      <td>NaN</td>\n",
              "      <td>NaN</td>\n",
              "      <td>NaN</td>\n",
              "      <td>NaN</td>\n",
              "      <td>NaN</td>\n",
              "      <td>NaN</td>\n",
              "      <td>NaN</td>\n",
              "      <td>NaN</td>\n",
              "      <td>NaN</td>\n",
              "      <td>NaN</td>\n",
              "      <td>NaN</td>\n",
              "      <td>NaN</td>\n",
              "      <td>NaN</td>\n",
              "      <td>NaN</td>\n",
              "      <td>NaN</td>\n",
              "      <td>NaN</td>\n",
              "      <td>NaN</td>\n",
              "      <td>NaN</td>\n",
              "      <td>NaN</td>\n",
              "      <td>NaN</td>\n",
              "      <td>NaN</td>\n",
              "      <td>NaN</td>\n",
              "      <td>NaN</td>\n",
              "      <td>NaN</td>\n",
              "      <td>NaN</td>\n",
              "      <td>NaN</td>\n",
              "      <td>NaN</td>\n",
              "      <td>NaN</td>\n",
              "      <td>NaN</td>\n",
              "      <td>NaN</td>\n",
              "      <td>NaN</td>\n",
              "      <td>NaN</td>\n",
              "      <td>NaN</td>\n",
              "      <td>NaN</td>\n",
              "      <td>NaN</td>\n",
              "      <td>NaN</td>\n",
              "      <td>NaN</td>\n",
              "      <td>NaN</td>\n",
              "      <td>NaN</td>\n",
              "      <td>NaN</td>\n",
              "      <td>NaN</td>\n",
              "      <td>NaN</td>\n",
              "      <td>NaN</td>\n",
              "      <td>1.0</td>\n",
              "      <td>0.0</td>\n",
              "      <td>1.0</td>\n",
              "      <td>0.0</td>\n",
              "      <td>-3217.0</td>\n",
              "      <td>0</td>\n",
              "      <td>0</td>\n",
              "      <td>0</td>\n",
              "      <td>0</td>\n",
              "      <td>0</td>\n",
              "      <td>0</td>\n",
              "      <td>1</td>\n",
              "      <td>0</td>\n",
              "      <td>0</td>\n",
              "      <td>0</td>\n",
              "      <td>0</td>\n",
              "      <td>0</td>\n",
              "      <td>0</td>\n",
              "      <td>0</td>\n",
              "      <td>0</td>\n",
              "      <td>0</td>\n",
              "      <td>0</td>\n",
              "      <td>0</td>\n",
              "      <td>0</td>\n",
              "      <td>0</td>\n",
              "      <td>0.0</td>\n",
              "      <td>1.0</td>\n",
              "      <td>0.0</td>\n",
              "      <td>0.0</td>\n",
              "      <td>0.0</td>\n",
              "      <td>2.0</td>\n",
              "      <td>999999</td>\n",
              "    </tr>\n",
              "    <tr>\n",
              "      <th>29</th>\n",
              "      <td>29</td>\n",
              "      <td>29</td>\n",
              "      <td>48317</td>\n",
              "      <td>155955</td>\n",
              "      <td>0</td>\n",
              "      <td>Cash loans</td>\n",
              "      <td>M</td>\n",
              "      <td>Y</td>\n",
              "      <td>N</td>\n",
              "      <td>0</td>\n",
              "      <td>324000.0</td>\n",
              "      <td>814041.0</td>\n",
              "      <td>23931.0</td>\n",
              "      <td>679500.0</td>\n",
              "      <td>Unaccompanied</td>\n",
              "      <td>Commercial associate</td>\n",
              "      <td>Secondary / secondary special</td>\n",
              "      <td>Married</td>\n",
              "      <td>House / apartment</td>\n",
              "      <td>0.072508</td>\n",
              "      <td>15321</td>\n",
              "      <td>547</td>\n",
              "      <td>-7559.0</td>\n",
              "      <td>-5310</td>\n",
              "      <td>5.0</td>\n",
              "      <td>1</td>\n",
              "      <td>1</td>\n",
              "      <td>0</td>\n",
              "      <td>1</td>\n",
              "      <td>0</td>\n",
              "      <td>0</td>\n",
              "      <td>Managers</td>\n",
              "      <td>2.0</td>\n",
              "      <td>1</td>\n",
              "      <td>1</td>\n",
              "      <td>TUESDAY</td>\n",
              "      <td>15</td>\n",
              "      <td>0</td>\n",
              "      <td>0</td>\n",
              "      <td>0</td>\n",
              "      <td>0</td>\n",
              "      <td>0</td>\n",
              "      <td>0</td>\n",
              "      <td>Construction</td>\n",
              "      <td>NaN</td>\n",
              "      <td>0.715585</td>\n",
              "      <td>0.701696</td>\n",
              "      <td>0.2158</td>\n",
              "      <td>0.1155</td>\n",
              "      <td>0.9831</td>\n",
              "      <td>0.7688</td>\n",
              "      <td>0.0768</td>\n",
              "      <td>0.3464</td>\n",
              "      <td>0.1493</td>\n",
              "      <td>0.4583</td>\n",
              "      <td>0.0417</td>\n",
              "      <td>0.0074</td>\n",
              "      <td>0.1698</td>\n",
              "      <td>0.2216</td>\n",
              "      <td>0.0283</td>\n",
              "      <td>0.0105</td>\n",
              "      <td>0.1019</td>\n",
              "      <td>0.0476</td>\n",
              "      <td>0.9836</td>\n",
              "      <td>0.7844</td>\n",
              "      <td>0.0315</td>\n",
              "      <td>0.1611</td>\n",
              "      <td>0.0690</td>\n",
              "      <td>0.4583</td>\n",
              "      <td>0.0417</td>\n",
              "      <td>0.0074</td>\n",
              "      <td>0.0872</td>\n",
              "      <td>0.0911</td>\n",
              "      <td>0.0078</td>\n",
              "      <td>0.0030</td>\n",
              "      <td>0.1010</td>\n",
              "      <td>0.0460</td>\n",
              "      <td>0.9836</td>\n",
              "      <td>0.7786</td>\n",
              "      <td>0.0320</td>\n",
              "      <td>0.16</td>\n",
              "      <td>0.0690</td>\n",
              "      <td>0.4583</td>\n",
              "      <td>0.0417</td>\n",
              "      <td>0.0074</td>\n",
              "      <td>0.0812</td>\n",
              "      <td>0.0892</td>\n",
              "      <td>0.0078</td>\n",
              "      <td>0.0029</td>\n",
              "      <td>reg oper account</td>\n",
              "      <td>block of flats</td>\n",
              "      <td>0.3908</td>\n",
              "      <td>Panel</td>\n",
              "      <td>No</td>\n",
              "      <td>0.0</td>\n",
              "      <td>0.0</td>\n",
              "      <td>0.0</td>\n",
              "      <td>0.0</td>\n",
              "      <td>-1.0</td>\n",
              "      <td>0</td>\n",
              "      <td>0</td>\n",
              "      <td>0</td>\n",
              "      <td>0</td>\n",
              "      <td>0</td>\n",
              "      <td>0</td>\n",
              "      <td>1</td>\n",
              "      <td>0</td>\n",
              "      <td>0</td>\n",
              "      <td>0</td>\n",
              "      <td>0</td>\n",
              "      <td>0</td>\n",
              "      <td>0</td>\n",
              "      <td>0</td>\n",
              "      <td>0</td>\n",
              "      <td>0</td>\n",
              "      <td>0</td>\n",
              "      <td>0</td>\n",
              "      <td>0</td>\n",
              "      <td>0</td>\n",
              "      <td>0.0</td>\n",
              "      <td>0.0</td>\n",
              "      <td>0.0</td>\n",
              "      <td>0.0</td>\n",
              "      <td>0.0</td>\n",
              "      <td>3.0</td>\n",
              "      <td>999999</td>\n",
              "    </tr>\n",
              "    <tr>\n",
              "      <th>30</th>\n",
              "      <td>30</td>\n",
              "      <td>30</td>\n",
              "      <td>241600</td>\n",
              "      <td>379756</td>\n",
              "      <td>0</td>\n",
              "      <td>Cash loans</td>\n",
              "      <td>F</td>\n",
              "      <td>Y</td>\n",
              "      <td>Y</td>\n",
              "      <td>1</td>\n",
              "      <td>360000.0</td>\n",
              "      <td>755190.0</td>\n",
              "      <td>36459.0</td>\n",
              "      <td>675000.0</td>\n",
              "      <td>Family</td>\n",
              "      <td>Commercial associate</td>\n",
              "      <td>Secondary / secondary special</td>\n",
              "      <td>Married</td>\n",
              "      <td>House / apartment</td>\n",
              "      <td>0.007274</td>\n",
              "      <td>13440</td>\n",
              "      <td>1762</td>\n",
              "      <td>-2537.0</td>\n",
              "      <td>-2537</td>\n",
              "      <td>5.0</td>\n",
              "      <td>1</td>\n",
              "      <td>1</td>\n",
              "      <td>0</td>\n",
              "      <td>1</td>\n",
              "      <td>0</td>\n",
              "      <td>0</td>\n",
              "      <td>Laborers</td>\n",
              "      <td>3.0</td>\n",
              "      <td>2</td>\n",
              "      <td>2</td>\n",
              "      <td>TUESDAY</td>\n",
              "      <td>17</td>\n",
              "      <td>0</td>\n",
              "      <td>0</td>\n",
              "      <td>0</td>\n",
              "      <td>0</td>\n",
              "      <td>0</td>\n",
              "      <td>0</td>\n",
              "      <td>Self-employed</td>\n",
              "      <td>NaN</td>\n",
              "      <td>0.630551</td>\n",
              "      <td>0.382502</td>\n",
              "      <td>NaN</td>\n",
              "      <td>NaN</td>\n",
              "      <td>NaN</td>\n",
              "      <td>NaN</td>\n",
              "      <td>NaN</td>\n",
              "      <td>NaN</td>\n",
              "      <td>NaN</td>\n",
              "      <td>NaN</td>\n",
              "      <td>NaN</td>\n",
              "      <td>NaN</td>\n",
              "      <td>NaN</td>\n",
              "      <td>NaN</td>\n",
              "      <td>NaN</td>\n",
              "      <td>NaN</td>\n",
              "      <td>NaN</td>\n",
              "      <td>NaN</td>\n",
              "      <td>NaN</td>\n",
              "      <td>NaN</td>\n",
              "      <td>NaN</td>\n",
              "      <td>NaN</td>\n",
              "      <td>NaN</td>\n",
              "      <td>NaN</td>\n",
              "      <td>NaN</td>\n",
              "      <td>NaN</td>\n",
              "      <td>NaN</td>\n",
              "      <td>NaN</td>\n",
              "      <td>NaN</td>\n",
              "      <td>NaN</td>\n",
              "      <td>NaN</td>\n",
              "      <td>NaN</td>\n",
              "      <td>NaN</td>\n",
              "      <td>NaN</td>\n",
              "      <td>NaN</td>\n",
              "      <td>NaN</td>\n",
              "      <td>NaN</td>\n",
              "      <td>NaN</td>\n",
              "      <td>NaN</td>\n",
              "      <td>NaN</td>\n",
              "      <td>NaN</td>\n",
              "      <td>NaN</td>\n",
              "      <td>NaN</td>\n",
              "      <td>NaN</td>\n",
              "      <td>NaN</td>\n",
              "      <td>NaN</td>\n",
              "      <td>NaN</td>\n",
              "      <td>NaN</td>\n",
              "      <td>NaN</td>\n",
              "      <td>0.0</td>\n",
              "      <td>0.0</td>\n",
              "      <td>0.0</td>\n",
              "      <td>0.0</td>\n",
              "      <td>-1813.0</td>\n",
              "      <td>0</td>\n",
              "      <td>0</td>\n",
              "      <td>0</td>\n",
              "      <td>0</td>\n",
              "      <td>0</td>\n",
              "      <td>0</td>\n",
              "      <td>1</td>\n",
              "      <td>0</td>\n",
              "      <td>0</td>\n",
              "      <td>0</td>\n",
              "      <td>0</td>\n",
              "      <td>0</td>\n",
              "      <td>0</td>\n",
              "      <td>0</td>\n",
              "      <td>0</td>\n",
              "      <td>0</td>\n",
              "      <td>0</td>\n",
              "      <td>0</td>\n",
              "      <td>0</td>\n",
              "      <td>0</td>\n",
              "      <td>0.0</td>\n",
              "      <td>0.0</td>\n",
              "      <td>0.0</td>\n",
              "      <td>0.0</td>\n",
              "      <td>2.0</td>\n",
              "      <td>5.0</td>\n",
              "      <td>999999</td>\n",
              "    </tr>\n",
              "    <tr>\n",
              "      <th>...</th>\n",
              "      <td>...</td>\n",
              "      <td>...</td>\n",
              "      <td>...</td>\n",
              "      <td>...</td>\n",
              "      <td>...</td>\n",
              "      <td>...</td>\n",
              "      <td>...</td>\n",
              "      <td>...</td>\n",
              "      <td>...</td>\n",
              "      <td>...</td>\n",
              "      <td>...</td>\n",
              "      <td>...</td>\n",
              "      <td>...</td>\n",
              "      <td>...</td>\n",
              "      <td>...</td>\n",
              "      <td>...</td>\n",
              "      <td>...</td>\n",
              "      <td>...</td>\n",
              "      <td>...</td>\n",
              "      <td>...</td>\n",
              "      <td>...</td>\n",
              "      <td>...</td>\n",
              "      <td>...</td>\n",
              "      <td>...</td>\n",
              "      <td>...</td>\n",
              "      <td>...</td>\n",
              "      <td>...</td>\n",
              "      <td>...</td>\n",
              "      <td>...</td>\n",
              "      <td>...</td>\n",
              "      <td>...</td>\n",
              "      <td>...</td>\n",
              "      <td>...</td>\n",
              "      <td>...</td>\n",
              "      <td>...</td>\n",
              "      <td>...</td>\n",
              "      <td>...</td>\n",
              "      <td>...</td>\n",
              "      <td>...</td>\n",
              "      <td>...</td>\n",
              "      <td>...</td>\n",
              "      <td>...</td>\n",
              "      <td>...</td>\n",
              "      <td>...</td>\n",
              "      <td>...</td>\n",
              "      <td>...</td>\n",
              "      <td>...</td>\n",
              "      <td>...</td>\n",
              "      <td>...</td>\n",
              "      <td>...</td>\n",
              "      <td>...</td>\n",
              "      <td>...</td>\n",
              "      <td>...</td>\n",
              "      <td>...</td>\n",
              "      <td>...</td>\n",
              "      <td>...</td>\n",
              "      <td>...</td>\n",
              "      <td>...</td>\n",
              "      <td>...</td>\n",
              "      <td>...</td>\n",
              "      <td>...</td>\n",
              "      <td>...</td>\n",
              "      <td>...</td>\n",
              "      <td>...</td>\n",
              "      <td>...</td>\n",
              "      <td>...</td>\n",
              "      <td>...</td>\n",
              "      <td>...</td>\n",
              "      <td>...</td>\n",
              "      <td>...</td>\n",
              "      <td>...</td>\n",
              "      <td>...</td>\n",
              "      <td>...</td>\n",
              "      <td>...</td>\n",
              "      <td>...</td>\n",
              "      <td>...</td>\n",
              "      <td>...</td>\n",
              "      <td>...</td>\n",
              "      <td>...</td>\n",
              "      <td>...</td>\n",
              "      <td>...</td>\n",
              "      <td>...</td>\n",
              "      <td>...</td>\n",
              "      <td>...</td>\n",
              "      <td>...</td>\n",
              "      <td>...</td>\n",
              "      <td>...</td>\n",
              "      <td>...</td>\n",
              "      <td>...</td>\n",
              "      <td>...</td>\n",
              "      <td>...</td>\n",
              "      <td>...</td>\n",
              "      <td>...</td>\n",
              "      <td>...</td>\n",
              "      <td>...</td>\n",
              "      <td>...</td>\n",
              "      <td>...</td>\n",
              "      <td>...</td>\n",
              "      <td>...</td>\n",
              "      <td>...</td>\n",
              "      <td>...</td>\n",
              "      <td>...</td>\n",
              "      <td>...</td>\n",
              "      <td>...</td>\n",
              "      <td>...</td>\n",
              "      <td>...</td>\n",
              "      <td>...</td>\n",
              "      <td>...</td>\n",
              "      <td>...</td>\n",
              "      <td>...</td>\n",
              "      <td>...</td>\n",
              "      <td>...</td>\n",
              "      <td>...</td>\n",
              "      <td>...</td>\n",
              "      <td>...</td>\n",
              "      <td>...</td>\n",
              "      <td>...</td>\n",
              "      <td>...</td>\n",
              "      <td>...</td>\n",
              "      <td>...</td>\n",
              "      <td>...</td>\n",
              "      <td>...</td>\n",
              "      <td>...</td>\n",
              "      <td>...</td>\n",
              "      <td>...</td>\n",
              "      <td>...</td>\n",
              "    </tr>\n",
              "    <tr>\n",
              "      <th>29184</th>\n",
              "      <td>29184</td>\n",
              "      <td>29184</td>\n",
              "      <td>138164</td>\n",
              "      <td>260228</td>\n",
              "      <td>0</td>\n",
              "      <td>Cash loans</td>\n",
              "      <td>F</td>\n",
              "      <td>Y</td>\n",
              "      <td>Y</td>\n",
              "      <td>1</td>\n",
              "      <td>247500.0</td>\n",
              "      <td>755190.0</td>\n",
              "      <td>32125.5</td>\n",
              "      <td>675000.0</td>\n",
              "      <td>Unaccompanied</td>\n",
              "      <td>Commercial associate</td>\n",
              "      <td>Higher education</td>\n",
              "      <td>Married</td>\n",
              "      <td>House / apartment</td>\n",
              "      <td>0.046220</td>\n",
              "      <td>13897</td>\n",
              "      <td>525</td>\n",
              "      <td>-1375.0</td>\n",
              "      <td>-2670</td>\n",
              "      <td>5.0</td>\n",
              "      <td>1</td>\n",
              "      <td>1</td>\n",
              "      <td>0</td>\n",
              "      <td>1</td>\n",
              "      <td>1</td>\n",
              "      <td>0</td>\n",
              "      <td>NaN</td>\n",
              "      <td>3.0</td>\n",
              "      <td>1</td>\n",
              "      <td>1</td>\n",
              "      <td>FRIDAY</td>\n",
              "      <td>12</td>\n",
              "      <td>0</td>\n",
              "      <td>1</td>\n",
              "      <td>1</td>\n",
              "      <td>0</td>\n",
              "      <td>0</td>\n",
              "      <td>0</td>\n",
              "      <td>Business Entity Type 3</td>\n",
              "      <td>0.593573</td>\n",
              "      <td>0.670436</td>\n",
              "      <td>0.294083</td>\n",
              "      <td>NaN</td>\n",
              "      <td>NaN</td>\n",
              "      <td>NaN</td>\n",
              "      <td>NaN</td>\n",
              "      <td>NaN</td>\n",
              "      <td>NaN</td>\n",
              "      <td>NaN</td>\n",
              "      <td>NaN</td>\n",
              "      <td>NaN</td>\n",
              "      <td>NaN</td>\n",
              "      <td>NaN</td>\n",
              "      <td>NaN</td>\n",
              "      <td>NaN</td>\n",
              "      <td>NaN</td>\n",
              "      <td>NaN</td>\n",
              "      <td>NaN</td>\n",
              "      <td>NaN</td>\n",
              "      <td>NaN</td>\n",
              "      <td>NaN</td>\n",
              "      <td>NaN</td>\n",
              "      <td>NaN</td>\n",
              "      <td>NaN</td>\n",
              "      <td>NaN</td>\n",
              "      <td>NaN</td>\n",
              "      <td>NaN</td>\n",
              "      <td>NaN</td>\n",
              "      <td>NaN</td>\n",
              "      <td>NaN</td>\n",
              "      <td>NaN</td>\n",
              "      <td>NaN</td>\n",
              "      <td>NaN</td>\n",
              "      <td>NaN</td>\n",
              "      <td>NaN</td>\n",
              "      <td>NaN</td>\n",
              "      <td>NaN</td>\n",
              "      <td>NaN</td>\n",
              "      <td>NaN</td>\n",
              "      <td>NaN</td>\n",
              "      <td>NaN</td>\n",
              "      <td>NaN</td>\n",
              "      <td>NaN</td>\n",
              "      <td>NaN</td>\n",
              "      <td>NaN</td>\n",
              "      <td>NaN</td>\n",
              "      <td>NaN</td>\n",
              "      <td>NaN</td>\n",
              "      <td>NaN</td>\n",
              "      <td>0.0</td>\n",
              "      <td>0.0</td>\n",
              "      <td>0.0</td>\n",
              "      <td>0.0</td>\n",
              "      <td>-1270.0</td>\n",
              "      <td>0</td>\n",
              "      <td>1</td>\n",
              "      <td>0</td>\n",
              "      <td>0</td>\n",
              "      <td>0</td>\n",
              "      <td>0</td>\n",
              "      <td>0</td>\n",
              "      <td>0</td>\n",
              "      <td>0</td>\n",
              "      <td>0</td>\n",
              "      <td>0</td>\n",
              "      <td>0</td>\n",
              "      <td>0</td>\n",
              "      <td>0</td>\n",
              "      <td>0</td>\n",
              "      <td>0</td>\n",
              "      <td>0</td>\n",
              "      <td>0</td>\n",
              "      <td>0</td>\n",
              "      <td>0</td>\n",
              "      <td>0.0</td>\n",
              "      <td>0.0</td>\n",
              "      <td>0.0</td>\n",
              "      <td>0.0</td>\n",
              "      <td>0.0</td>\n",
              "      <td>3.0</td>\n",
              "      <td>999999</td>\n",
              "    </tr>\n",
              "    <tr>\n",
              "      <th>29193</th>\n",
              "      <td>29193</td>\n",
              "      <td>29193</td>\n",
              "      <td>9779</td>\n",
              "      <td>111383</td>\n",
              "      <td>0</td>\n",
              "      <td>Cash loans</td>\n",
              "      <td>M</td>\n",
              "      <td>Y</td>\n",
              "      <td>Y</td>\n",
              "      <td>2</td>\n",
              "      <td>315000.0</td>\n",
              "      <td>229500.0</td>\n",
              "      <td>26023.5</td>\n",
              "      <td>229500.0</td>\n",
              "      <td>Unaccompanied</td>\n",
              "      <td>Commercial associate</td>\n",
              "      <td>Secondary / secondary special</td>\n",
              "      <td>Married</td>\n",
              "      <td>Municipal apartment</td>\n",
              "      <td>0.046220</td>\n",
              "      <td>15309</td>\n",
              "      <td>1976</td>\n",
              "      <td>-7884.0</td>\n",
              "      <td>-4429</td>\n",
              "      <td>5.0</td>\n",
              "      <td>1</td>\n",
              "      <td>1</td>\n",
              "      <td>0</td>\n",
              "      <td>1</td>\n",
              "      <td>0</td>\n",
              "      <td>0</td>\n",
              "      <td>Drivers</td>\n",
              "      <td>4.0</td>\n",
              "      <td>1</td>\n",
              "      <td>1</td>\n",
              "      <td>THURSDAY</td>\n",
              "      <td>19</td>\n",
              "      <td>0</td>\n",
              "      <td>0</td>\n",
              "      <td>0</td>\n",
              "      <td>0</td>\n",
              "      <td>1</td>\n",
              "      <td>1</td>\n",
              "      <td>Transport: type 3</td>\n",
              "      <td>NaN</td>\n",
              "      <td>0.685681</td>\n",
              "      <td>0.695622</td>\n",
              "      <td>0.2227</td>\n",
              "      <td>0.1522</td>\n",
              "      <td>0.9796</td>\n",
              "      <td>0.7212</td>\n",
              "      <td>0.4225</td>\n",
              "      <td>0.1600</td>\n",
              "      <td>0.1379</td>\n",
              "      <td>0.3333</td>\n",
              "      <td>0.0417</td>\n",
              "      <td>0.0000</td>\n",
              "      <td>0.1816</td>\n",
              "      <td>0.2121</td>\n",
              "      <td>0.0000</td>\n",
              "      <td>0.2246</td>\n",
              "      <td>0.2269</td>\n",
              "      <td>0.1579</td>\n",
              "      <td>0.9796</td>\n",
              "      <td>0.7321</td>\n",
              "      <td>0.4263</td>\n",
              "      <td>0.1611</td>\n",
              "      <td>0.1379</td>\n",
              "      <td>0.3333</td>\n",
              "      <td>0.0417</td>\n",
              "      <td>0.0000</td>\n",
              "      <td>0.1983</td>\n",
              "      <td>0.2210</td>\n",
              "      <td>0.0000</td>\n",
              "      <td>0.2378</td>\n",
              "      <td>0.2248</td>\n",
              "      <td>0.1522</td>\n",
              "      <td>0.9796</td>\n",
              "      <td>0.7249</td>\n",
              "      <td>0.4252</td>\n",
              "      <td>0.16</td>\n",
              "      <td>0.1379</td>\n",
              "      <td>0.3333</td>\n",
              "      <td>0.0417</td>\n",
              "      <td>0.0000</td>\n",
              "      <td>0.1847</td>\n",
              "      <td>0.2159</td>\n",
              "      <td>0.0000</td>\n",
              "      <td>0.2293</td>\n",
              "      <td>reg oper account</td>\n",
              "      <td>block of flats</td>\n",
              "      <td>0.2310</td>\n",
              "      <td>Panel</td>\n",
              "      <td>No</td>\n",
              "      <td>0.0</td>\n",
              "      <td>0.0</td>\n",
              "      <td>0.0</td>\n",
              "      <td>0.0</td>\n",
              "      <td>-1222.0</td>\n",
              "      <td>0</td>\n",
              "      <td>0</td>\n",
              "      <td>0</td>\n",
              "      <td>0</td>\n",
              "      <td>0</td>\n",
              "      <td>0</td>\n",
              "      <td>1</td>\n",
              "      <td>0</td>\n",
              "      <td>0</td>\n",
              "      <td>0</td>\n",
              "      <td>0</td>\n",
              "      <td>0</td>\n",
              "      <td>0</td>\n",
              "      <td>0</td>\n",
              "      <td>0</td>\n",
              "      <td>0</td>\n",
              "      <td>0</td>\n",
              "      <td>0</td>\n",
              "      <td>0</td>\n",
              "      <td>0</td>\n",
              "      <td>0.0</td>\n",
              "      <td>0.0</td>\n",
              "      <td>0.0</td>\n",
              "      <td>0.0</td>\n",
              "      <td>0.0</td>\n",
              "      <td>1.0</td>\n",
              "      <td>999999</td>\n",
              "    </tr>\n",
              "    <tr>\n",
              "      <th>29204</th>\n",
              "      <td>29204</td>\n",
              "      <td>29204</td>\n",
              "      <td>162465</td>\n",
              "      <td>288347</td>\n",
              "      <td>0</td>\n",
              "      <td>Cash loans</td>\n",
              "      <td>M</td>\n",
              "      <td>N</td>\n",
              "      <td>Y</td>\n",
              "      <td>0</td>\n",
              "      <td>360000.0</td>\n",
              "      <td>640080.0</td>\n",
              "      <td>24259.5</td>\n",
              "      <td>450000.0</td>\n",
              "      <td>Unaccompanied</td>\n",
              "      <td>Commercial associate</td>\n",
              "      <td>Secondary / secondary special</td>\n",
              "      <td>Married</td>\n",
              "      <td>House / apartment</td>\n",
              "      <td>0.072508</td>\n",
              "      <td>18697</td>\n",
              "      <td>194</td>\n",
              "      <td>-11432.0</td>\n",
              "      <td>-2235</td>\n",
              "      <td>NaN</td>\n",
              "      <td>1</td>\n",
              "      <td>1</td>\n",
              "      <td>0</td>\n",
              "      <td>1</td>\n",
              "      <td>1</td>\n",
              "      <td>0</td>\n",
              "      <td>Drivers</td>\n",
              "      <td>2.0</td>\n",
              "      <td>1</td>\n",
              "      <td>1</td>\n",
              "      <td>THURSDAY</td>\n",
              "      <td>19</td>\n",
              "      <td>0</td>\n",
              "      <td>0</td>\n",
              "      <td>0</td>\n",
              "      <td>0</td>\n",
              "      <td>0</td>\n",
              "      <td>0</td>\n",
              "      <td>Transport: type 4</td>\n",
              "      <td>0.734306</td>\n",
              "      <td>0.661892</td>\n",
              "      <td>0.472253</td>\n",
              "      <td>0.0515</td>\n",
              "      <td>0.0557</td>\n",
              "      <td>0.9717</td>\n",
              "      <td>0.6124</td>\n",
              "      <td>0.0610</td>\n",
              "      <td>0.0000</td>\n",
              "      <td>0.1034</td>\n",
              "      <td>0.1667</td>\n",
              "      <td>0.2083</td>\n",
              "      <td>0.0642</td>\n",
              "      <td>0.0416</td>\n",
              "      <td>0.0671</td>\n",
              "      <td>0.0019</td>\n",
              "      <td>0.0207</td>\n",
              "      <td>0.0525</td>\n",
              "      <td>0.0232</td>\n",
              "      <td>0.9717</td>\n",
              "      <td>0.6276</td>\n",
              "      <td>0.0427</td>\n",
              "      <td>0.0000</td>\n",
              "      <td>0.1034</td>\n",
              "      <td>0.1667</td>\n",
              "      <td>0.2083</td>\n",
              "      <td>0.0644</td>\n",
              "      <td>0.0450</td>\n",
              "      <td>0.0694</td>\n",
              "      <td>0.0000</td>\n",
              "      <td>0.0017</td>\n",
              "      <td>0.0520</td>\n",
              "      <td>0.0557</td>\n",
              "      <td>0.9717</td>\n",
              "      <td>0.6176</td>\n",
              "      <td>0.0614</td>\n",
              "      <td>0.00</td>\n",
              "      <td>0.1034</td>\n",
              "      <td>0.1667</td>\n",
              "      <td>0.2083</td>\n",
              "      <td>0.0653</td>\n",
              "      <td>0.0423</td>\n",
              "      <td>0.0683</td>\n",
              "      <td>0.0019</td>\n",
              "      <td>0.0212</td>\n",
              "      <td>reg oper account</td>\n",
              "      <td>block of flats</td>\n",
              "      <td>0.0535</td>\n",
              "      <td>Stone, brick</td>\n",
              "      <td>No</td>\n",
              "      <td>2.0</td>\n",
              "      <td>2.0</td>\n",
              "      <td>2.0</td>\n",
              "      <td>1.0</td>\n",
              "      <td>-1094.0</td>\n",
              "      <td>0</td>\n",
              "      <td>0</td>\n",
              "      <td>0</td>\n",
              "      <td>0</td>\n",
              "      <td>0</td>\n",
              "      <td>0</td>\n",
              "      <td>1</td>\n",
              "      <td>0</td>\n",
              "      <td>0</td>\n",
              "      <td>0</td>\n",
              "      <td>0</td>\n",
              "      <td>0</td>\n",
              "      <td>0</td>\n",
              "      <td>0</td>\n",
              "      <td>0</td>\n",
              "      <td>0</td>\n",
              "      <td>0</td>\n",
              "      <td>0</td>\n",
              "      <td>0</td>\n",
              "      <td>0</td>\n",
              "      <td>0.0</td>\n",
              "      <td>0.0</td>\n",
              "      <td>0.0</td>\n",
              "      <td>1.0</td>\n",
              "      <td>0.0</td>\n",
              "      <td>5.0</td>\n",
              "      <td>999999</td>\n",
              "    </tr>\n",
              "    <tr>\n",
              "      <th>29206</th>\n",
              "      <td>29206</td>\n",
              "      <td>29206</td>\n",
              "      <td>77584</td>\n",
              "      <td>189955</td>\n",
              "      <td>0</td>\n",
              "      <td>Cash loans</td>\n",
              "      <td>F</td>\n",
              "      <td>Y</td>\n",
              "      <td>N</td>\n",
              "      <td>0</td>\n",
              "      <td>360000.0</td>\n",
              "      <td>756000.0</td>\n",
              "      <td>50724.0</td>\n",
              "      <td>756000.0</td>\n",
              "      <td>Unaccompanied</td>\n",
              "      <td>Commercial associate</td>\n",
              "      <td>Secondary / secondary special</td>\n",
              "      <td>Separated</td>\n",
              "      <td>House / apartment</td>\n",
              "      <td>0.018634</td>\n",
              "      <td>13033</td>\n",
              "      <td>682</td>\n",
              "      <td>-3954.0</td>\n",
              "      <td>-4673</td>\n",
              "      <td>9.0</td>\n",
              "      <td>1</td>\n",
              "      <td>1</td>\n",
              "      <td>1</td>\n",
              "      <td>1</td>\n",
              "      <td>1</td>\n",
              "      <td>0</td>\n",
              "      <td>Private service staff</td>\n",
              "      <td>1.0</td>\n",
              "      <td>2</td>\n",
              "      <td>2</td>\n",
              "      <td>SUNDAY</td>\n",
              "      <td>20</td>\n",
              "      <td>0</td>\n",
              "      <td>0</td>\n",
              "      <td>0</td>\n",
              "      <td>0</td>\n",
              "      <td>0</td>\n",
              "      <td>0</td>\n",
              "      <td>Self-employed</td>\n",
              "      <td>0.394146</td>\n",
              "      <td>0.686204</td>\n",
              "      <td>0.624615</td>\n",
              "      <td>NaN</td>\n",
              "      <td>NaN</td>\n",
              "      <td>NaN</td>\n",
              "      <td>NaN</td>\n",
              "      <td>NaN</td>\n",
              "      <td>NaN</td>\n",
              "      <td>NaN</td>\n",
              "      <td>NaN</td>\n",
              "      <td>NaN</td>\n",
              "      <td>NaN</td>\n",
              "      <td>NaN</td>\n",
              "      <td>NaN</td>\n",
              "      <td>NaN</td>\n",
              "      <td>NaN</td>\n",
              "      <td>NaN</td>\n",
              "      <td>NaN</td>\n",
              "      <td>NaN</td>\n",
              "      <td>NaN</td>\n",
              "      <td>NaN</td>\n",
              "      <td>NaN</td>\n",
              "      <td>NaN</td>\n",
              "      <td>NaN</td>\n",
              "      <td>NaN</td>\n",
              "      <td>NaN</td>\n",
              "      <td>NaN</td>\n",
              "      <td>NaN</td>\n",
              "      <td>NaN</td>\n",
              "      <td>NaN</td>\n",
              "      <td>NaN</td>\n",
              "      <td>NaN</td>\n",
              "      <td>NaN</td>\n",
              "      <td>NaN</td>\n",
              "      <td>NaN</td>\n",
              "      <td>NaN</td>\n",
              "      <td>NaN</td>\n",
              "      <td>NaN</td>\n",
              "      <td>NaN</td>\n",
              "      <td>NaN</td>\n",
              "      <td>NaN</td>\n",
              "      <td>NaN</td>\n",
              "      <td>NaN</td>\n",
              "      <td>NaN</td>\n",
              "      <td>NaN</td>\n",
              "      <td>NaN</td>\n",
              "      <td>NaN</td>\n",
              "      <td>NaN</td>\n",
              "      <td>NaN</td>\n",
              "      <td>6.0</td>\n",
              "      <td>2.0</td>\n",
              "      <td>6.0</td>\n",
              "      <td>2.0</td>\n",
              "      <td>-1993.0</td>\n",
              "      <td>0</td>\n",
              "      <td>1</td>\n",
              "      <td>0</td>\n",
              "      <td>0</td>\n",
              "      <td>0</td>\n",
              "      <td>0</td>\n",
              "      <td>0</td>\n",
              "      <td>0</td>\n",
              "      <td>0</td>\n",
              "      <td>0</td>\n",
              "      <td>0</td>\n",
              "      <td>0</td>\n",
              "      <td>0</td>\n",
              "      <td>0</td>\n",
              "      <td>0</td>\n",
              "      <td>0</td>\n",
              "      <td>0</td>\n",
              "      <td>0</td>\n",
              "      <td>0</td>\n",
              "      <td>0</td>\n",
              "      <td>0.0</td>\n",
              "      <td>0.0</td>\n",
              "      <td>0.0</td>\n",
              "      <td>0.0</td>\n",
              "      <td>0.0</td>\n",
              "      <td>1.0</td>\n",
              "      <td>999999</td>\n",
              "    </tr>\n",
              "    <tr>\n",
              "      <th>29212</th>\n",
              "      <td>29212</td>\n",
              "      <td>29212</td>\n",
              "      <td>285679</td>\n",
              "      <td>430866</td>\n",
              "      <td>0</td>\n",
              "      <td>Cash loans</td>\n",
              "      <td>M</td>\n",
              "      <td>N</td>\n",
              "      <td>Y</td>\n",
              "      <td>0</td>\n",
              "      <td>270000.0</td>\n",
              "      <td>260640.0</td>\n",
              "      <td>22500.0</td>\n",
              "      <td>225000.0</td>\n",
              "      <td>Unaccompanied</td>\n",
              "      <td>Commercial associate</td>\n",
              "      <td>Incomplete higher</td>\n",
              "      <td>Civil marriage</td>\n",
              "      <td>House / apartment</td>\n",
              "      <td>0.003122</td>\n",
              "      <td>16154</td>\n",
              "      <td>141</td>\n",
              "      <td>-6355.0</td>\n",
              "      <td>-5087</td>\n",
              "      <td>NaN</td>\n",
              "      <td>1</td>\n",
              "      <td>1</td>\n",
              "      <td>0</td>\n",
              "      <td>1</td>\n",
              "      <td>1</td>\n",
              "      <td>0</td>\n",
              "      <td>Laborers</td>\n",
              "      <td>2.0</td>\n",
              "      <td>3</td>\n",
              "      <td>3</td>\n",
              "      <td>TUESDAY</td>\n",
              "      <td>16</td>\n",
              "      <td>1</td>\n",
              "      <td>1</td>\n",
              "      <td>0</td>\n",
              "      <td>1</td>\n",
              "      <td>1</td>\n",
              "      <td>0</td>\n",
              "      <td>Self-employed</td>\n",
              "      <td>0.722792</td>\n",
              "      <td>0.364839</td>\n",
              "      <td>0.563835</td>\n",
              "      <td>0.1485</td>\n",
              "      <td>0.0779</td>\n",
              "      <td>0.9846</td>\n",
              "      <td>0.7892</td>\n",
              "      <td>0.0500</td>\n",
              "      <td>0.1600</td>\n",
              "      <td>0.1379</td>\n",
              "      <td>0.3333</td>\n",
              "      <td>0.0417</td>\n",
              "      <td>0.0806</td>\n",
              "      <td>0.1202</td>\n",
              "      <td>0.1482</td>\n",
              "      <td>0.0039</td>\n",
              "      <td>0.0039</td>\n",
              "      <td>0.1513</td>\n",
              "      <td>0.0809</td>\n",
              "      <td>0.9846</td>\n",
              "      <td>0.7975</td>\n",
              "      <td>0.0505</td>\n",
              "      <td>0.1611</td>\n",
              "      <td>0.1379</td>\n",
              "      <td>0.3333</td>\n",
              "      <td>0.0417</td>\n",
              "      <td>0.0824</td>\n",
              "      <td>0.1313</td>\n",
              "      <td>0.1544</td>\n",
              "      <td>0.0039</td>\n",
              "      <td>0.0041</td>\n",
              "      <td>0.1499</td>\n",
              "      <td>0.0779</td>\n",
              "      <td>0.9846</td>\n",
              "      <td>0.7920</td>\n",
              "      <td>0.0504</td>\n",
              "      <td>0.16</td>\n",
              "      <td>0.1379</td>\n",
              "      <td>0.3333</td>\n",
              "      <td>0.0417</td>\n",
              "      <td>0.0820</td>\n",
              "      <td>0.1223</td>\n",
              "      <td>0.1508</td>\n",
              "      <td>0.0039</td>\n",
              "      <td>0.0039</td>\n",
              "      <td>reg oper spec account</td>\n",
              "      <td>block of flats</td>\n",
              "      <td>0.1447</td>\n",
              "      <td>Stone, brick</td>\n",
              "      <td>No</td>\n",
              "      <td>4.0</td>\n",
              "      <td>1.0</td>\n",
              "      <td>4.0</td>\n",
              "      <td>0.0</td>\n",
              "      <td>0.0</td>\n",
              "      <td>0</td>\n",
              "      <td>1</td>\n",
              "      <td>0</td>\n",
              "      <td>0</td>\n",
              "      <td>0</td>\n",
              "      <td>0</td>\n",
              "      <td>0</td>\n",
              "      <td>0</td>\n",
              "      <td>0</td>\n",
              "      <td>0</td>\n",
              "      <td>0</td>\n",
              "      <td>0</td>\n",
              "      <td>0</td>\n",
              "      <td>0</td>\n",
              "      <td>0</td>\n",
              "      <td>0</td>\n",
              "      <td>0</td>\n",
              "      <td>0</td>\n",
              "      <td>0</td>\n",
              "      <td>0</td>\n",
              "      <td>0.0</td>\n",
              "      <td>0.0</td>\n",
              "      <td>0.0</td>\n",
              "      <td>0.0</td>\n",
              "      <td>1.0</td>\n",
              "      <td>0.0</td>\n",
              "      <td>999999</td>\n",
              "    </tr>\n",
              "  </tbody>\n",
              "</table>\n",
              "<p>3718 rows × 126 columns</p>\n",
              "</div>"
            ],
            "text/plain": [
              "       Unnamed: 0  Unnamed: 0.1  Unnamed: 0.1.1  SK_ID_CURR  TARGET NAME_CONTRACT_TYPE CODE_GENDER FLAG_OWN_CAR FLAG_OWN_REALTY  CNT_CHILDREN  AMT_INCOME_TOTAL  AMT_CREDIT  AMT_ANNUITY  AMT_GOODS_PRICE NAME_TYPE_SUITE      NAME_INCOME_TYPE            NAME_EDUCATION_TYPE    NAME_FAMILY_STATUS    NAME_HOUSING_TYPE  REGION_POPULATION_RELATIVE  DAYS_BIRTH  DAYS_EMPLOYED  DAYS_REGISTRATION  DAYS_ID_PUBLISH  OWN_CAR_AGE  FLAG_MOBIL  FLAG_EMP_PHONE  FLAG_WORK_PHONE FLAG_CONT_MOBILE  FLAG_PHONE  FLAG_EMAIL        OCCUPATION_TYPE  CNT_FAM_MEMBERS  REGION_RATING_CLIENT  REGION_RATING_CLIENT_W_CITY WEEKDAY_APPR_PROCESS_START  HOUR_APPR_PROCESS_START  REG_REGION_NOT_LIVE_REGION  REG_REGION_NOT_WORK_REGION  LIVE_REGION_NOT_WORK_REGION  REG_CITY_NOT_LIVE_CITY  REG_CITY_NOT_WORK_CITY  LIVE_CITY_NOT_WORK_CITY       ORGANIZATION_TYPE  EXT_SOURCE_1  EXT_SOURCE_2  EXT_SOURCE_3  APARTMENTS_AVG  BASEMENTAREA_AVG  YEARS_BEGINEXPLUATATION_AVG  YEARS_BUILD_AVG  COMMONAREA_AVG  ELEVATORS_AVG  ENTRANCES_AVG  \\\n",
              "11             11            11           27354      131790       0         Cash loans           M            N               N             0          283500.0    808650.0      26086.5         675000.0   Unaccompanied               Working  Secondary / secondary special               Married    House / apartment                    0.022800       13210           1073             -869.0            -2703          NaN           1               1                0                1           0           0               Laborers              2.0                     2                            2                   THURSDAY                        7                           0                           0                            0                       0                       0                        0        Industry: type 4      0.330076      0.565274      0.199771          0.0278            0.0704                       0.9851           0.7960          0.0057         0.0000         0.1034   \n",
              "15             15            15          132164      253286       0         Cash loans           F            N               N             0          238500.0    263686.5      25816.5         238500.0   Unaccompanied  Commercial associate  Secondary / secondary special  Single / not married  Municipal apartment                    0.020713       19989           1031            -9591.0            -3512          NaN           1               1                0                1           0           0            Sales staff              1.0                     3                            2                   THURSDAY                        7                           0                           0                            0                       0                       0                        0           Trade: type 7           NaN      0.661113      0.265049          0.0093            0.0000                       0.9593           0.4424          0.0096         0.0000         0.0690   \n",
              "26             26            26          230552      367051       0         Cash loans           F            Y               Y             1          279000.0    450000.0      22977.0         450000.0          Family               Working               Higher education        Civil marriage    House / apartment                    0.019101       16187           3731            -9530.0            -4643          4.0           1               1                1                1           1           0               Managers              3.0                     2                            2                   SATURDAY                       13                           0                           0                            0                       0                       0                        0                Medicine           NaN      0.628690           NaN             NaN               NaN                          NaN              NaN             NaN            NaN            NaN   \n",
              "29             29            29           48317      155955       0         Cash loans           M            Y               N             0          324000.0    814041.0      23931.0         679500.0   Unaccompanied  Commercial associate  Secondary / secondary special               Married    House / apartment                    0.072508       15321            547            -7559.0            -5310          5.0           1               1                0                1           0           0               Managers              2.0                     1                            1                    TUESDAY                       15                           0                           0                            0                       0                       0                        0            Construction           NaN      0.715585      0.701696          0.2158            0.1155                       0.9831           0.7688          0.0768         0.3464         0.1493   \n",
              "30             30            30          241600      379756       0         Cash loans           F            Y               Y             1          360000.0    755190.0      36459.0         675000.0          Family  Commercial associate  Secondary / secondary special               Married    House / apartment                    0.007274       13440           1762            -2537.0            -2537          5.0           1               1                0                1           0           0               Laborers              3.0                     2                            2                    TUESDAY                       17                           0                           0                            0                       0                       0                        0           Self-employed           NaN      0.630551      0.382502             NaN               NaN                          NaN              NaN             NaN            NaN            NaN   \n",
              "...           ...           ...             ...         ...     ...                ...         ...          ...             ...           ...               ...         ...          ...              ...             ...                   ...                            ...                   ...                  ...                         ...         ...            ...                ...              ...          ...         ...             ...              ...              ...         ...         ...                    ...              ...                   ...                          ...                        ...                      ...                         ...                         ...                          ...                     ...                     ...                      ...                     ...           ...           ...           ...             ...               ...                          ...              ...             ...            ...            ...   \n",
              "29184       29184         29184          138164      260228       0         Cash loans           F            Y               Y             1          247500.0    755190.0      32125.5         675000.0   Unaccompanied  Commercial associate               Higher education               Married    House / apartment                    0.046220       13897            525            -1375.0            -2670          5.0           1               1                0                1           1           0                    NaN              3.0                     1                            1                     FRIDAY                       12                           0                           1                            1                       0                       0                        0  Business Entity Type 3      0.593573      0.670436      0.294083             NaN               NaN                          NaN              NaN             NaN            NaN            NaN   \n",
              "29193       29193         29193            9779      111383       0         Cash loans           M            Y               Y             2          315000.0    229500.0      26023.5         229500.0   Unaccompanied  Commercial associate  Secondary / secondary special               Married  Municipal apartment                    0.046220       15309           1976            -7884.0            -4429          5.0           1               1                0                1           0           0                Drivers              4.0                     1                            1                   THURSDAY                       19                           0                           0                            0                       0                       1                        1       Transport: type 3           NaN      0.685681      0.695622          0.2227            0.1522                       0.9796           0.7212          0.4225         0.1600         0.1379   \n",
              "29204       29204         29204          162465      288347       0         Cash loans           M            N               Y             0          360000.0    640080.0      24259.5         450000.0   Unaccompanied  Commercial associate  Secondary / secondary special               Married    House / apartment                    0.072508       18697            194           -11432.0            -2235          NaN           1               1                0                1           1           0                Drivers              2.0                     1                            1                   THURSDAY                       19                           0                           0                            0                       0                       0                        0       Transport: type 4      0.734306      0.661892      0.472253          0.0515            0.0557                       0.9717           0.6124          0.0610         0.0000         0.1034   \n",
              "29206       29206         29206           77584      189955       0         Cash loans           F            Y               N             0          360000.0    756000.0      50724.0         756000.0   Unaccompanied  Commercial associate  Secondary / secondary special             Separated    House / apartment                    0.018634       13033            682            -3954.0            -4673          9.0           1               1                1                1           1           0  Private service staff              1.0                     2                            2                     SUNDAY                       20                           0                           0                            0                       0                       0                        0           Self-employed      0.394146      0.686204      0.624615             NaN               NaN                          NaN              NaN             NaN            NaN            NaN   \n",
              "29212       29212         29212          285679      430866       0         Cash loans           M            N               Y             0          270000.0    260640.0      22500.0         225000.0   Unaccompanied  Commercial associate              Incomplete higher        Civil marriage    House / apartment                    0.003122       16154            141            -6355.0            -5087          NaN           1               1                0                1           1           0               Laborers              2.0                     3                            3                    TUESDAY                       16                           1                           1                            0                       1                       1                        0           Self-employed      0.722792      0.364839      0.563835          0.1485            0.0779                       0.9846           0.7892          0.0500         0.1600         0.1379   \n",
              "\n",
              "       FLOORSMAX_AVG  FLOORSMIN_AVG  LANDAREA_AVG  LIVINGAPARTMENTS_AVG  LIVINGAREA_AVG  NONLIVINGAPARTMENTS_AVG  NONLIVINGAREA_AVG  APARTMENTS_MODE  BASEMENTAREA_MODE  YEARS_BEGINEXPLUATATION_MODE  YEARS_BUILD_MODE  COMMONAREA_MODE  ELEVATORS_MODE  ENTRANCES_MODE  FLOORSMAX_MODE  FLOORSMIN_MODE  LANDAREA_MODE  LIVINGAPARTMENTS_MODE  LIVINGAREA_MODE  NONLIVINGAPARTMENTS_MODE  NONLIVINGAREA_MODE  APARTMENTS_MEDI  BASEMENTAREA_MEDI  YEARS_BEGINEXPLUATATION_MEDI  YEARS_BUILD_MEDI  COMMONAREA_MEDI  ELEVATORS_MEDI  ENTRANCES_MEDI  FLOORSMAX_MEDI  FLOORSMIN_MEDI  LANDAREA_MEDI  LIVINGAPARTMENTS_MEDI  LIVINGAREA_MEDI  NONLIVINGAPARTMENTS_MEDI  NONLIVINGAREA_MEDI     FONDKAPREMONT_MODE  HOUSETYPE_MODE  TOTALAREA_MODE WALLSMATERIAL_MODE EMERGENCYSTATE_MODE  OBS_30_CNT_SOCIAL_CIRCLE  DEF_30_CNT_SOCIAL_CIRCLE  OBS_60_CNT_SOCIAL_CIRCLE  DEF_60_CNT_SOCIAL_CIRCLE  DAYS_LAST_PHONE_CHANGE  FLAG_DOCUMENT_2  FLAG_DOCUMENT_3  FLAG_DOCUMENT_4  FLAG_DOCUMENT_5  FLAG_DOCUMENT_6  FLAG_DOCUMENT_7  \\\n",
              "11            0.0833         0.1250        0.0284                0.0227          0.0304                   0.0000             0.0000           0.0284             0.0730                        0.9851            0.8040           0.0057          0.0000          0.1034          0.0833          0.1250         0.0290                 0.0248           0.0317                    0.0000              0.0000           0.0281             0.0704                        0.9851            0.7987           0.0057            0.00          0.1034          0.0833          0.1250         0.0289                 0.0231           0.0309                    0.0000              0.0000       reg oper account  block of flats          0.0239       Stone, brick                  No                       1.0                       0.0                       1.0                       0.0                 -2233.0                0                1                0                0                0                0   \n",
              "15            0.0417         0.0833        0.0000                0.0076          0.0097                   0.0000             0.0000           0.0095             0.0000                        0.9593            0.4642           0.0096          0.0000          0.0690          0.0417          0.0833         0.0000                 0.0083           0.0101                    0.0000              0.0000           0.0094             0.0000                        0.9593            0.4499           0.0096            0.00          0.0690          0.0417          0.0833         0.0000                 0.0077           0.0099                    0.0000              0.0000       reg oper account  block of flats          0.0129             Wooden                 Yes                       1.0                       0.0                       1.0                       0.0                 -1600.0                0                1                0                0                0                0   \n",
              "26               NaN            NaN           NaN                   NaN             NaN                      NaN                NaN              NaN                NaN                           NaN               NaN              NaN             NaN             NaN             NaN             NaN            NaN                    NaN              NaN                       NaN                 NaN              NaN                NaN                           NaN               NaN              NaN             NaN             NaN             NaN             NaN            NaN                    NaN              NaN                       NaN                 NaN                    NaN             NaN             NaN                NaN                 NaN                       1.0                       0.0                       1.0                       0.0                 -3217.0                0                0                0                0                0                0   \n",
              "29            0.4583         0.0417        0.0074                0.1698          0.2216                   0.0283             0.0105           0.1019             0.0476                        0.9836            0.7844           0.0315          0.1611          0.0690          0.4583          0.0417         0.0074                 0.0872           0.0911                    0.0078              0.0030           0.1010             0.0460                        0.9836            0.7786           0.0320            0.16          0.0690          0.4583          0.0417         0.0074                 0.0812           0.0892                    0.0078              0.0029       reg oper account  block of flats          0.3908              Panel                  No                       0.0                       0.0                       0.0                       0.0                    -1.0                0                0                0                0                0                0   \n",
              "30               NaN            NaN           NaN                   NaN             NaN                      NaN                NaN              NaN                NaN                           NaN               NaN              NaN             NaN             NaN             NaN             NaN            NaN                    NaN              NaN                       NaN                 NaN              NaN                NaN                           NaN               NaN              NaN             NaN             NaN             NaN             NaN            NaN                    NaN              NaN                       NaN                 NaN                    NaN             NaN             NaN                NaN                 NaN                       0.0                       0.0                       0.0                       0.0                 -1813.0                0                0                0                0                0                0   \n",
              "...              ...            ...           ...                   ...             ...                      ...                ...              ...                ...                           ...               ...              ...             ...             ...             ...             ...            ...                    ...              ...                       ...                 ...              ...                ...                           ...               ...              ...             ...             ...             ...             ...            ...                    ...              ...                       ...                 ...                    ...             ...             ...                ...                 ...                       ...                       ...                       ...                       ...                     ...              ...              ...              ...              ...              ...              ...   \n",
              "29184            NaN            NaN           NaN                   NaN             NaN                      NaN                NaN              NaN                NaN                           NaN               NaN              NaN             NaN             NaN             NaN             NaN            NaN                    NaN              NaN                       NaN                 NaN              NaN                NaN                           NaN               NaN              NaN             NaN             NaN             NaN             NaN            NaN                    NaN              NaN                       NaN                 NaN                    NaN             NaN             NaN                NaN                 NaN                       0.0                       0.0                       0.0                       0.0                 -1270.0                0                1                0                0                0                0   \n",
              "29193         0.3333         0.0417        0.0000                0.1816          0.2121                   0.0000             0.2246           0.2269             0.1579                        0.9796            0.7321           0.4263          0.1611          0.1379          0.3333          0.0417         0.0000                 0.1983           0.2210                    0.0000              0.2378           0.2248             0.1522                        0.9796            0.7249           0.4252            0.16          0.1379          0.3333          0.0417         0.0000                 0.1847           0.2159                    0.0000              0.2293       reg oper account  block of flats          0.2310              Panel                  No                       0.0                       0.0                       0.0                       0.0                 -1222.0                0                0                0                0                0                0   \n",
              "29204         0.1667         0.2083        0.0642                0.0416          0.0671                   0.0019             0.0207           0.0525             0.0232                        0.9717            0.6276           0.0427          0.0000          0.1034          0.1667          0.2083         0.0644                 0.0450           0.0694                    0.0000              0.0017           0.0520             0.0557                        0.9717            0.6176           0.0614            0.00          0.1034          0.1667          0.2083         0.0653                 0.0423           0.0683                    0.0019              0.0212       reg oper account  block of flats          0.0535       Stone, brick                  No                       2.0                       2.0                       2.0                       1.0                 -1094.0                0                0                0                0                0                0   \n",
              "29206            NaN            NaN           NaN                   NaN             NaN                      NaN                NaN              NaN                NaN                           NaN               NaN              NaN             NaN             NaN             NaN             NaN            NaN                    NaN              NaN                       NaN                 NaN              NaN                NaN                           NaN               NaN              NaN             NaN             NaN             NaN             NaN            NaN                    NaN              NaN                       NaN                 NaN                    NaN             NaN             NaN                NaN                 NaN                       6.0                       2.0                       6.0                       2.0                 -1993.0                0                1                0                0                0                0   \n",
              "29212         0.3333         0.0417        0.0806                0.1202          0.1482                   0.0039             0.0039           0.1513             0.0809                        0.9846            0.7975           0.0505          0.1611          0.1379          0.3333          0.0417         0.0824                 0.1313           0.1544                    0.0039              0.0041           0.1499             0.0779                        0.9846            0.7920           0.0504            0.16          0.1379          0.3333          0.0417         0.0820                 0.1223           0.1508                    0.0039              0.0039  reg oper spec account  block of flats          0.1447       Stone, brick                  No                       4.0                       1.0                       4.0                       0.0                     0.0                0                1                0                0                0                0   \n",
              "\n",
              "       FLAG_DOCUMENT_8  FLAG_DOCUMENT_9  FLAG_DOCUMENT_10  FLAG_DOCUMENT_11  FLAG_DOCUMENT_12  FLAG_DOCUMENT_13  FLAG_DOCUMENT_14  FLAG_DOCUMENT_15  FLAG_DOCUMENT_16  FLAG_DOCUMENT_17  FLAG_DOCUMENT_18  FLAG_DOCUMENT_19  FLAG_DOCUMENT_20  FLAG_DOCUMENT_21  AMT_REQ_CREDIT_BUREAU_HOUR  AMT_REQ_CREDIT_BUREAU_DAY  AMT_REQ_CREDIT_BUREAU_WEEK  AMT_REQ_CREDIT_BUREAU_MON  AMT_REQ_CREDIT_BUREAU_QRT  AMT_REQ_CREDIT_BUREAU_YEAR  LESS_USE  \n",
              "11                   0                0                 0                 0                 0                 0                 0                 0                 0                 0                 0                 0                 0                 0                         0.0                        0.0                         0.0                        0.0                        0.0                         0.0    999999  \n",
              "15                   0                0                 0                 0                 0                 0                 0                 0                 0                 0                 0                 0                 0                 0                         0.0                        0.0                         0.0                        0.0                        0.0                         4.0    999999  \n",
              "26                   1                0                 0                 0                 0                 0                 0                 0                 0                 0                 0                 0                 0                 0                         0.0                        1.0                         0.0                        0.0                        0.0                         2.0    999999  \n",
              "29                   1                0                 0                 0                 0                 0                 0                 0                 0                 0                 0                 0                 0                 0                         0.0                        0.0                         0.0                        0.0                        0.0                         3.0    999999  \n",
              "30                   1                0                 0                 0                 0                 0                 0                 0                 0                 0                 0                 0                 0                 0                         0.0                        0.0                         0.0                        0.0                        2.0                         5.0    999999  \n",
              "...                ...              ...               ...               ...               ...               ...               ...               ...               ...               ...               ...               ...               ...               ...                         ...                        ...                         ...                        ...                        ...                         ...       ...  \n",
              "29184                0                0                 0                 0                 0                 0                 0                 0                 0                 0                 0                 0                 0                 0                         0.0                        0.0                         0.0                        0.0                        0.0                         3.0    999999  \n",
              "29193                1                0                 0                 0                 0                 0                 0                 0                 0                 0                 0                 0                 0                 0                         0.0                        0.0                         0.0                        0.0                        0.0                         1.0    999999  \n",
              "29204                1                0                 0                 0                 0                 0                 0                 0                 0                 0                 0                 0                 0                 0                         0.0                        0.0                         0.0                        1.0                        0.0                         5.0    999999  \n",
              "29206                0                0                 0                 0                 0                 0                 0                 0                 0                 0                 0                 0                 0                 0                         0.0                        0.0                         0.0                        0.0                        0.0                         1.0    999999  \n",
              "29212                0                0                 0                 0                 0                 0                 0                 0                 0                 0                 0                 0                 0                 0                         0.0                        0.0                         0.0                        0.0                        1.0                         0.0    999999  \n",
              "\n",
              "[3718 rows x 126 columns]"
            ]
          },
          "metadata": {
            "tags": []
          },
          "execution_count": 17
        }
      ]
    },
    {
      "cell_type": "markdown",
      "metadata": {
        "id": "-cZt7An490PN",
        "colab_type": "text"
      },
      "source": [
        "***Question 11:*** <br>\n",
        "How many rows satisfy a *Cash loans* contract and a *AMT total income* bigger than 225000?"
      ]
    },
    {
      "cell_type": "code",
      "metadata": {
        "id": "V6UH3EpVbNfB",
        "colab_type": "code",
        "outputId": "9c0260fa-91c5-49d7-bb2a-74e455ee2ae4",
        "colab": {
          "base_uri": "https://localhost:8080/",
          "height": 34
        }
      },
      "source": [
        "#data.loc[(data['AMT_INCOME_TOTAL'] > 225000) & (data['NAME_CONTRACT_TYPE'].str.match('Cash loans'))].shape\n",
        "data[(data['NAME_CONTRACT_TYPE']=='Cash loans') & (data['AMT_INCOME_TOTAL'] > 225000)].shape"
      ],
      "execution_count": 18,
      "outputs": [
        {
          "output_type": "execute_result",
          "data": {
            "text/plain": [
              "(3718, 126)"
            ]
          },
          "metadata": {
            "tags": []
          },
          "execution_count": 18
        }
      ]
    },
    {
      "cell_type": "markdown",
      "metadata": {
        "id": "q5mZZhe7j6-p",
        "colab_type": "text"
      },
      "source": [
        "3'718"
      ]
    },
    {
      "cell_type": "markdown",
      "metadata": {
        "id": "_6MMtwfh90PO",
        "colab_type": "text"
      },
      "source": [
        "Create a boxplot for the column `'FLOORSMAX_AVG'`"
      ]
    },
    {
      "cell_type": "code",
      "metadata": {
        "id": "JUeY342P90PR",
        "colab_type": "code",
        "outputId": "6242b72b-732a-4b74-cd7b-51caa5aa6ae0",
        "colab": {
          "base_uri": "https://localhost:8080/",
          "height": 286
        }
      },
      "source": [
        "#YOUR CODE HERE\n",
        "data.boxplot(column='FLOORSMAX_AVG')\n"
      ],
      "execution_count": 19,
      "outputs": [
        {
          "output_type": "execute_result",
          "data": {
            "text/plain": [
              "<matplotlib.axes._subplots.AxesSubplot at 0x7f7f38e7dd30>"
            ]
          },
          "metadata": {
            "tags": []
          },
          "execution_count": 19
        },
        {
          "output_type": "display_data",
          "data": {
            "image/png": "[encoded data removed]",
            "text/plain": [
              "<Figure size 432x288 with 1 Axes>"
            ]
          },
          "metadata": {
            "tags": []
          }
        }
      ]
    },
    {
      "cell_type": "markdown",
      "metadata": {
        "id": "Lus_s2yO90Pg",
        "colab_type": "text"
      },
      "source": [
        "***Question 12:*** <br>\n",
        "From the box plot on `'FLOORSMAX_AVG'`, are there more outliers with small or with large values?"
      ]
    },
    {
      "cell_type": "markdown",
      "metadata": {
        "id": "EL7-U48gkPP8",
        "colab_type": "text"
      },
      "source": [
        "Large values"
      ]
    },
    {
      "cell_type": "markdown",
      "metadata": {
        "colab_type": "text",
        "id": "PAHL1Hp5eUaA"
      },
      "source": [
        "Compute the pearson correlation of all the features with respect to the ``'TARGET'`` variable. Notice that some of the correlations are NaN. Use the 'dropna()' function to remove those values. Plot the 20 most positively correlated variables/columns to 'TARGET'. Plot the 20 most negatively correlated variables/columns to 'TARGET'. Sort them and put them in a **bar chart** for example. \n",
        "\n",
        "**Hint:** *corr()* method can be applied to Dataframes"
      ]
    },
    {
      "cell_type": "code",
      "metadata": {
        "colab_type": "code",
        "id": "iXhzuzWmehAl",
        "outputId": "ec129b9a-fbf1-408d-d610-1e14c41d3911",
        "colab": {
          "base_uri": "https://localhost:8080/",
          "height": 1000
        }
      },
      "source": [
        "#YOUR CODE HERE\n",
        "data_without_NaN=data.dropna()\n",
        "data_without_NaN.corr(method='pearson')['TARGET'].sort_values(ascending = True)"
      ],
      "execution_count": 20,
      "outputs": [
        {
          "output_type": "execute_result",
          "data": {
            "text/plain": [
              "EXT_SOURCE_3                   -0.198436\n",
              "EXT_SOURCE_1                   -0.130036\n",
              "EXT_SOURCE_2                   -0.118070\n",
              "DAYS_EMPLOYED                  -0.081133\n",
              "REGION_RATING_CLIENT           -0.078628\n",
              "REGION_RATING_CLIENT_W_CITY    -0.073155\n",
              "DAYS_BIRTH                     -0.056374\n",
              "FLAG_DOCUMENT_13               -0.036662\n",
              "FLOORSMIN_MEDI                 -0.034853\n",
              "FLOORSMIN_AVG                  -0.034619\n",
              "FLAG_DOCUMENT_5                -0.031060\n",
              "LIVINGAREA_AVG                 -0.030241\n",
              "LIVINGAREA_MEDI                -0.029538\n",
              "ELEVATORS_AVG                  -0.028679\n",
              "FLAG_DOCUMENT_16               -0.028536\n",
              "FLOORSMIN_MODE                 -0.027723\n",
              "NONLIVINGAPARTMENTS_AVG        -0.027647\n",
              "ELEVATORS_MEDI                 -0.026484\n",
              "NONLIVINGAPARTMENTS_MEDI       -0.026450\n",
              "AMT_REQ_CREDIT_BUREAU_MON      -0.025646\n",
              "NONLIVINGAPARTMENTS_MODE       -0.024717\n",
              "AMT_REQ_CREDIT_BUREAU_HOUR     -0.024291\n",
              "HOUR_APPR_PROCESS_START        -0.023838\n",
              "ELEVATORS_MODE                 -0.023079\n",
              "FLAG_DOCUMENT_18               -0.022708\n",
              "FLOORSMAX_AVG                  -0.022329\n",
              "AMT_REQ_CREDIT_BUREAU_YEAR     -0.021566\n",
              "AMT_REQ_CREDIT_BUREAU_WEEK     -0.021006\n",
              "FLAG_DOCUMENT_15               -0.019169\n",
              "APARTMENTS_AVG                 -0.019115\n",
              "APARTMENTS_MEDI                -0.018629\n",
              "LIVINGAREA_MODE                -0.017917\n",
              "FLAG_DOCUMENT_3                -0.017189\n",
              "FLOORSMAX_MEDI                 -0.016942\n",
              "Unnamed: 0                     -0.016042\n",
              "Unnamed: 0.1                   -0.016042\n",
              "FLOORSMAX_MODE                 -0.015230\n",
              "FLAG_DOCUMENT_9                -0.014830\n",
              "TOTALAREA_MODE                 -0.014747\n",
              "ENTRANCES_MEDI                 -0.014495\n",
              "ENTRANCES_AVG                  -0.013849\n",
              "YEARS_BUILD_MEDI               -0.013792\n",
              "YEARS_BUILD_AVG                -0.013725\n",
              "LIVINGAPARTMENTS_AVG           -0.012257\n",
              "AMT_REQ_CREDIT_BUREAU_DAY      -0.012101\n",
              "LIVINGAPARTMENTS_MEDI          -0.010027\n",
              "BASEMENTAREA_AVG               -0.009947\n",
              "BASEMENTAREA_MEDI              -0.008771\n",
              "FLAG_DOCUMENT_20               -0.008552\n",
              "APARTMENTS_MODE                -0.008305\n",
              "AMT_INCOME_TOTAL               -0.008011\n",
              "LIVINGAPARTMENTS_MODE          -0.007731\n",
              "ENTRANCES_MODE                 -0.007397\n",
              "YEARS_BUILD_MODE               -0.007063\n",
              "YEARS_BEGINEXPLUATATION_AVG    -0.005971\n",
              "YEARS_BEGINEXPLUATATION_MEDI   -0.005894\n",
              "LANDAREA_MEDI                  -0.005556\n",
              "AMT_REQ_CREDIT_BUREAU_QRT      -0.005120\n",
              "LANDAREA_MODE                  -0.005045\n",
              "DEF_30_CNT_SOCIAL_CIRCLE       -0.005024\n",
              "YEARS_BEGINEXPLUATATION_MODE   -0.004944\n",
              "LANDAREA_AVG                   -0.004078\n",
              "DEF_60_CNT_SOCIAL_CIRCLE       -0.001659\n",
              "LIVE_CITY_NOT_WORK_CITY        -0.000123\n",
              "BASEMENTAREA_MODE               0.000072\n",
              "NONLIVINGAREA_AVG               0.000301\n",
              "OBS_30_CNT_SOCIAL_CIRCLE        0.000559\n",
              "FLAG_PHONE                      0.001033\n",
              "NONLIVINGAREA_MEDI              0.001168\n",
              "CNT_FAM_MEMBERS                 0.001844\n",
              "OBS_60_CNT_SOCIAL_CIRCLE        0.002154\n",
              "COMMONAREA_MEDI                 0.004241\n",
              "COMMONAREA_AVG                  0.004989\n",
              "FLAG_EMP_PHONE                  0.008552\n",
              "AMT_GOODS_PRICE                 0.008557\n",
              "CNT_CHILDREN                    0.012473\n",
              "COMMONAREA_MODE                 0.012676\n",
              "LIVE_REGION_NOT_WORK_REGION     0.014515\n",
              "FLAG_EMAIL                      0.015586\n",
              "NONLIVINGAREA_MODE              0.015756\n",
              "DAYS_ID_PUBLISH                 0.015954\n",
              "AMT_CREDIT                      0.018353\n",
              "OWN_CAR_AGE                     0.021070\n",
              "FLAG_WORK_PHONE                 0.023020\n",
              "FLAG_DOCUMENT_11                0.024562\n",
              "REG_REGION_NOT_WORK_REGION      0.031508\n",
              "REGION_POPULATION_RELATIVE      0.034135\n",
              "FLAG_DOCUMENT_6                 0.040532\n",
              "REG_CITY_NOT_WORK_CITY          0.042500\n",
              "REG_CITY_NOT_LIVE_CITY          0.043018\n",
              "FLAG_DOCUMENT_8                 0.046758\n",
              "AMT_ANNUITY                     0.049872\n",
              "DAYS_REGISTRATION               0.050958\n",
              "Unnamed: 0.1.1                  0.063717\n",
              "SK_ID_CURR                      0.063751\n",
              "FLAG_DOCUMENT_14                0.072046\n",
              "REG_REGION_NOT_LIVE_REGION      0.079236\n",
              "DAYS_LAST_PHONE_CHANGE          0.081738\n",
              "TARGET                          1.000000\n",
              "FLAG_MOBIL                           NaN\n",
              "FLAG_DOCUMENT_2                      NaN\n",
              "FLAG_DOCUMENT_4                      NaN\n",
              "FLAG_DOCUMENT_7                      NaN\n",
              "FLAG_DOCUMENT_10                     NaN\n",
              "FLAG_DOCUMENT_12                     NaN\n",
              "FLAG_DOCUMENT_17                     NaN\n",
              "FLAG_DOCUMENT_19                     NaN\n",
              "FLAG_DOCUMENT_21                     NaN\n",
              "LESS_USE                             NaN\n",
              "Name: TARGET, dtype: float64"
            ]
          },
          "metadata": {
            "tags": []
          },
          "execution_count": 20
        }
      ]
    },
    {
      "cell_type": "markdown",
      "metadata": {
        "id": "UcduDMIX90P2",
        "colab_type": "text"
      },
      "source": [
        "***Question 13:*** <br>\n",
        "What is the column with the highest positive correlation to the column ``'TARGET'`` (other than 'TARGET'!)?"
      ]
    },
    {
      "cell_type": "markdown",
      "metadata": {
        "id": "buGJqa8plNDj",
        "colab_type": "text"
      },
      "source": [
        "The column is DAYS_LAST_PHONE_CHANGE"
      ]
    },
    {
      "cell_type": "code",
      "metadata": {
        "id": "MoClaslTkjGs",
        "colab_type": "code",
        "outputId": "5fafa2e6-cfbe-491f-8297-a601abc310b1",
        "colab": {
          "base_uri": "https://localhost:8080/",
          "height": 471
        }
      },
      "source": [
        "correlations = data_without_NaN[data_without_NaN.columns[0:]].corr(method='pearson')['TARGET'][:-1].dropna()\n",
        "top20_positive = correlations.nlargest(20)\n",
        "top20_negative = correlations.nsmallest(20)\n",
        "\n",
        "graph = top20_negative.plot(kind=\"barh\", color = 'white', figsize=(20,10))\n",
        "graph2 = top20_positive.plot(kind=\"barh\", color = 'black', figsize=(20,10))\n",
        "graph.set_title(\"Bar chart of correlations\", size=20)\n",
        "graph.set_xlabel(\"Correlations\", size=14)\n",
        "graph.set_ylabel(\"Column name\", size=14)"
      ],
      "execution_count": 21,
      "outputs": [
        {
          "output_type": "execute_result",
          "data": {
            "text/plain": [
              "Text(0, 0.5, 'Column name')"
            ]
          },
          "metadata": {
            "tags": []
          },
          "execution_count": 21
        },
        {
          "output_type": "display_data",
          "data": {
            "image/png": "[encoded data removed]",
            "text/plain": [
              "<Figure size 1440x720 with 1 Axes>"
            ]
          },
          "metadata": {
            "tags": []
          }
        }
      ]
    },
    {
      "cell_type": "markdown",
      "metadata": {
        "id": "x5L5Oqgz90P3",
        "colab_type": "text"
      },
      "source": [
        "***Question 14:*** <br>\n",
        "What is the column with the second highest positive correlation to the column ``'TARGET'``?"
      ]
    },
    {
      "cell_type": "markdown",
      "metadata": {
        "id": "s4OiY5BSk2i1",
        "colab_type": "text"
      },
      "source": [
        "REG_REGION_NOT_LIVE_REGION"
      ]
    },
    {
      "cell_type": "markdown",
      "metadata": {
        "id": "3sctzLZ190P4",
        "colab_type": "text"
      },
      "source": [
        "***Question 15:*** <br>\n",
        "What is the column **least** correlated to the column ``'TARGET'``?\n",
        "\n",
        "**Remember:** We are looking for correlation close to zero."
      ]
    },
    {
      "cell_type": "markdown",
      "metadata": {
        "id": "unaAkqJxmhCe",
        "colab_type": "text"
      },
      "source": [
        "BASEMENTARE_MODE with 0.000072"
      ]
    },
    {
      "cell_type": "markdown",
      "metadata": {
        "id": "0Pdg7uf190P5",
        "colab_type": "text"
      },
      "source": [
        "Create a pairplot of columns `'LIVINGAPARTMENTS_AVG'`, `'APARTMENTS_MEDI'`, `'HOUR_APPR_PROCESS_START'` and `'REGION_RATING_CLIENT_W_CITY'`. Use the `'TARGET'` column as the *hue* argument"
      ]
    },
    {
      "cell_type": "code",
      "metadata": {
        "id": "dq306LzY90P-",
        "colab_type": "code",
        "outputId": "26fc2166-5cd1-4922-ecfd-f3eaef966582",
        "colab": {
          "base_uri": "https://localhost:8080/",
          "height": 771
        }
      },
      "source": [
        "#YOUR CODE HERE\n",
        "pg = sns.pairplot(data_without_NaN, vars=['LIVINGAPARTMENTS_AVG', 'APARTMENTS_MEDI', 'HOUR_APPR_PROCESS_START','REGION_RATING_CLIENT_W_CITY'],hue='TARGET')\n",
        "pg.map(plt.scatter, alpha=0.1)\n"
      ],
      "execution_count": 22,
      "outputs": [
        {
          "output_type": "execute_result",
          "data": {
            "text/plain": [
              "<seaborn.axisgrid.PairGrid at 0x7f7f38ddb860>"
            ]
          },
          "metadata": {
            "tags": []
          },
          "execution_count": 22
        },
        {
          "output_type": "display_data",
          "data": {
            "image/png": "[encoded data removed]",
            "text/plain": [
              "<Figure size 769.05x720 with 20 Axes>"
            ]
          },
          "metadata": {
            "tags": []
          }
        }
      ]
    },
    {
      "cell_type": "markdown",
      "metadata": {
        "nteract": {
          "transient": {
            "deleting": false
          }
        },
        "id": "ZebkrCn8PRe3",
        "colab_type": "text"
      },
      "source": [
        "***Question 16:***<br>\n",
        "Among the above variables, what are the 2 variables that are the most correlated?"
      ]
    },
    {
      "cell_type": "markdown",
      "metadata": {
        "id": "w3MGpw97l7X0",
        "colab_type": "text"
      },
      "source": [
        "The variables are LIVINGAPARTMENTS_AVG and APARTMENTS_MEDI\n",
        "\n",
        "\n"
      ]
    },
    {
      "cell_type": "markdown",
      "metadata": {
        "colab_type": "text",
        "id": "2aZvVYG8_r2U"
      },
      "source": [
        "Now, create a heatmap of correlations of columns `'DAYS_BIRTH'`, `'YEARS_BUILD_AVG'`, `'AMT_ANNUITY'` and `'TARGET'` \n",
        " "
      ]
    },
    {
      "cell_type": "code",
      "metadata": {
        "colab_type": "code",
        "id": "4r636JD_CWyq",
        "outputId": "3d1cec52-b894-421d-9eea-fc0e4e1adc3c",
        "colab": {
          "base_uri": "https://localhost:8080/",
          "height": 382
        }
      },
      "source": [
        "#YOUR CODE HERE\n",
        "heat = ['DAYS_BIRTH', 'YEARS_BUILD_AVG', 'AMT_ANNUITY', 'TARGET']\n",
        "sns.heatmap(data[heat].corr(), annot=True)"
      ],
      "execution_count": 23,
      "outputs": [
        {
          "output_type": "execute_result",
          "data": {
            "text/plain": [
              "<matplotlib.axes._subplots.AxesSubplot at 0x7f7f34743c50>"
            ]
          },
          "metadata": {
            "tags": []
          },
          "execution_count": 23
        },
        {
          "output_type": "display_data",
          "data": {
            "image/png": "[encoded data removed]",
            "text/plain": [
              "<Figure size 432x288 with 2 Axes>"
            ]
          },
          "metadata": {
            "tags": []
          }
        }
      ]
    },
    {
      "cell_type": "markdown",
      "metadata": {
        "id": "f-25wjV2v2hk",
        "colab_type": "text"
      },
      "source": [
        "## SQL\n",
        "\n",
        "Now you will test your knowledge of SQL with some statement. For this we will load the Titanic dataset which you also used in the lab. You have to answer the following questions."
      ]
    },
    {
      "cell_type": "code",
      "metadata": {
        "id": "wfWeWh3Av3pN",
        "colab_type": "code",
        "colab": {}
      },
      "source": [
        "# Load table from CSV file\n",
        "import pandas as pd\n",
        "from sqlalchemy import create_engine\n",
        "\n",
        "# create the database\n",
        "db = create_engine('sqlite://', echo=False)\n",
        "\n",
        "# Titanic table\n",
        "csvfile = 'https://raw.githubusercontent.com/michalis0/Business-Intelligence-and-Analytics/master/week6%20-%20SQL2/data/Titanic.csv'\n",
        "df = pd.read_csv(csvfile)\n",
        "table_name = \"Titanic\"\n",
        "df.to_sql(table_name, con=db) # populate it with the data"
      ],
      "execution_count": 0,
      "outputs": []
    },
    {
      "cell_type": "markdown",
      "metadata": {
        "id": "OMwjRJKgBT2n",
        "colab_type": "text"
      },
      "source": [
        "***Question 17:***<br>\n",
        "Are there any pairs of passengers with the same last name where one is in first class and the other is in third class? If so, return the last name and the two first names. Label the first-name columns 'first' for the passenger in first class and 'third' for the passenger in third class."
      ]
    },
    {
      "cell_type": "code",
      "metadata": {
        "id": "B6g2-9KRBWI_",
        "colab_type": "code",
        "outputId": "1e089fca-6812-40c4-9d3c-0b1d3f921420",
        "colab": {
          "base_uri": "https://localhost:8080/",
          "height": 328
        }
      },
      "source": [
        "query = \"\"\"\n",
        "select t1.last, t1.first as 'first', t2.first as 'third'\n",
        "from titanic t1, titanic t2\n",
        "where t1.last = t2.last\n",
        "and t1.class = 1\n",
        "and t2.class = 3\n",
        "\"\"\"\n",
        "sql_df = pd.read_sql(query, con=db)\n",
        "sql_df"
      ],
      "execution_count": 25,
      "outputs": [
        {
          "output_type": "execute_result",
          "data": {
            "text/html": [
              "<div>\n",
              "<style scoped>\n",
              "    .dataframe tbody tr th:only-of-type {\n",
              "        vertical-align: middle;\n",
              "    }\n",
              "\n",
              "    .dataframe tbody tr th {\n",
              "        vertical-align: top;\n",
              "    }\n",
              "\n",
              "    .dataframe thead th {\n",
              "        text-align: right;\n",
              "    }\n",
              "</style>\n",
              "<table border=\"1\" class=\"dataframe\">\n",
              "  <thead>\n",
              "    <tr style=\"text-align: right;\">\n",
              "      <th></th>\n",
              "      <th>last</th>\n",
              "      <th>first</th>\n",
              "      <th>third</th>\n",
              "    </tr>\n",
              "  </thead>\n",
              "  <tbody>\n",
              "    <tr>\n",
              "      <th>0</th>\n",
              "      <td>Allen</td>\n",
              "      <td>Miss Elisabeth Walton</td>\n",
              "      <td>Mr. William Henry</td>\n",
              "    </tr>\n",
              "    <tr>\n",
              "      <th>1</th>\n",
              "      <td>Smith</td>\n",
              "      <td>Mr. James Clinch</td>\n",
              "      <td>Mr. Thomas</td>\n",
              "    </tr>\n",
              "    <tr>\n",
              "      <th>2</th>\n",
              "      <td>Smith</td>\n",
              "      <td>Mr. Richard William</td>\n",
              "      <td>Mr. Thomas</td>\n",
              "    </tr>\n",
              "    <tr>\n",
              "      <th>3</th>\n",
              "      <td>Williams</td>\n",
              "      <td>Mr. Charles Duane</td>\n",
              "      <td>Mr. Howard Hugh \"Harry\"</td>\n",
              "    </tr>\n",
              "    <tr>\n",
              "      <th>4</th>\n",
              "      <td>Flynn</td>\n",
              "      <td>Mr. John Irwin (\"Irving\")</td>\n",
              "      <td>Mr. James</td>\n",
              "    </tr>\n",
              "    <tr>\n",
              "      <th>5</th>\n",
              "      <td>Daly</td>\n",
              "      <td>Mr. Peter Denis</td>\n",
              "      <td>Mr. Eugene Patrick</td>\n",
              "    </tr>\n",
              "    <tr>\n",
              "      <th>6</th>\n",
              "      <td>Williams</td>\n",
              "      <td>Mr. Charles Duane</td>\n",
              "      <td>Mr. Leslie</td>\n",
              "    </tr>\n",
              "    <tr>\n",
              "      <th>7</th>\n",
              "      <td>Carlsson</td>\n",
              "      <td>Mr. Frans Olof</td>\n",
              "      <td>Mr. August Sigfrid</td>\n",
              "    </tr>\n",
              "    <tr>\n",
              "      <th>8</th>\n",
              "      <td>Flynn</td>\n",
              "      <td>Mr. John Irwin (\"Irving\")</td>\n",
              "      <td>Mr. John</td>\n",
              "    </tr>\n",
              "  </tbody>\n",
              "</table>\n",
              "</div>"
            ],
            "text/plain": [
              "       last                       first                     third\n",
              "0     Allen       Miss Elisabeth Walton         Mr. William Henry\n",
              "1     Smith            Mr. James Clinch                Mr. Thomas\n",
              "2     Smith         Mr. Richard William                Mr. Thomas\n",
              "3  Williams           Mr. Charles Duane   Mr. Howard Hugh \"Harry\"\n",
              "4     Flynn   Mr. John Irwin (\"Irving\")                 Mr. James\n",
              "5      Daly             Mr. Peter Denis        Mr. Eugene Patrick\n",
              "6  Williams           Mr. Charles Duane                Mr. Leslie\n",
              "7  Carlsson              Mr. Frans Olof        Mr. August Sigfrid\n",
              "8     Flynn   Mr. John Irwin (\"Irving\")                  Mr. John"
            ]
          },
          "metadata": {
            "tags": []
          },
          "execution_count": 25
        }
      ]
    },
    {
      "cell_type": "markdown",
      "metadata": {
        "id": "59EcHy0SBa_-",
        "colab_type": "text"
      },
      "source": [
        "***Question 18:***<br>\n",
        "Which embarkation cities have more than 40 passengers whose age is missing? Reminder: Blanks in SQL tables are given a special value called 'null', and conditions 'A is null' and 'A is not null' can be used in Where clauses to check whether attribute A has the 'null' value."
      ]
    },
    {
      "cell_type": "code",
      "metadata": {
        "id": "O3brmkpyBbfc",
        "colab_type": "code",
        "outputId": "2f1cc95a-3d0b-4622-c1bd-fcf66efd8909",
        "colab": {
          "base_uri": "https://localhost:8080/",
          "height": 111
        }
      },
      "source": [
        "query = \"\"\"\n",
        "Select embarked \n",
        "From Titanic \n",
        "group by embarked\n",
        "having sum(age is null)>40\n",
        "\"\"\"\n",
        "sql_df = pd.read_sql(query, con=db)\n",
        "sql_df"
      ],
      "execution_count": 26,
      "outputs": [
        {
          "output_type": "execute_result",
          "data": {
            "text/html": [
              "<div>\n",
              "<style scoped>\n",
              "    .dataframe tbody tr th:only-of-type {\n",
              "        vertical-align: middle;\n",
              "    }\n",
              "\n",
              "    .dataframe tbody tr th {\n",
              "        vertical-align: top;\n",
              "    }\n",
              "\n",
              "    .dataframe thead th {\n",
              "        text-align: right;\n",
              "    }\n",
              "</style>\n",
              "<table border=\"1\" class=\"dataframe\">\n",
              "  <thead>\n",
              "    <tr style=\"text-align: right;\">\n",
              "      <th></th>\n",
              "      <th>embarked</th>\n",
              "    </tr>\n",
              "  </thead>\n",
              "  <tbody>\n",
              "    <tr>\n",
              "      <th>0</th>\n",
              "      <td>Queenstown</td>\n",
              "    </tr>\n",
              "    <tr>\n",
              "      <th>1</th>\n",
              "      <td>Southampton</td>\n",
              "    </tr>\n",
              "  </tbody>\n",
              "</table>\n",
              "</div>"
            ],
            "text/plain": [
              "      embarked\n",
              "0   Queenstown\n",
              "1  Southampton"
            ]
          },
          "metadata": {
            "tags": []
          },
          "execution_count": 26
        }
      ]
    },
    {
      "cell_type": "markdown",
      "metadata": {
        "id": "h9OKvQrdBeEV",
        "colab_type": "text"
      },
      "source": [
        "***Question 19:***<br>\n",
        "Find all classes where the average fare paid by passengers in that class was more than twice the overall average or less than half the overall average."
      ]
    },
    {
      "cell_type": "code",
      "metadata": {
        "id": "Z2mNh0YeBgk6",
        "colab_type": "code",
        "outputId": "97cc185a-f7ce-4853-a952-39bbb8c47333",
        "colab": {
          "base_uri": "https://localhost:8080/",
          "height": 80
        }
      },
      "source": [
        "query = \"\"\"\n",
        "select avg(fare) as 'overall_average'\n",
        "from Titanic\n",
        "\"\"\"\n",
        "sql_df = pd.read_sql(query, con=db)\n",
        "sql_df"
      ],
      "execution_count": 27,
      "outputs": [
        {
          "output_type": "execute_result",
          "data": {
            "text/html": [
              "<div>\n",
              "<style scoped>\n",
              "    .dataframe tbody tr th:only-of-type {\n",
              "        vertical-align: middle;\n",
              "    }\n",
              "\n",
              "    .dataframe tbody tr th {\n",
              "        vertical-align: top;\n",
              "    }\n",
              "\n",
              "    .dataframe thead th {\n",
              "        text-align: right;\n",
              "    }\n",
              "</style>\n",
              "<table border=\"1\" class=\"dataframe\">\n",
              "  <thead>\n",
              "    <tr style=\"text-align: right;\">\n",
              "      <th></th>\n",
              "      <th>overall_average</th>\n",
              "    </tr>\n",
              "  </thead>\n",
              "  <tbody>\n",
              "    <tr>\n",
              "      <th>0</th>\n",
              "      <td>32.204208</td>\n",
              "    </tr>\n",
              "  </tbody>\n",
              "</table>\n",
              "</div>"
            ],
            "text/plain": [
              "   overall_average\n",
              "0        32.204208"
            ]
          },
          "metadata": {
            "tags": []
          },
          "execution_count": 27
        }
      ]
    },
    {
      "cell_type": "code",
      "metadata": {
        "id": "lELct7s1n4lv",
        "colab_type": "code",
        "outputId": "3ae63b29-5ab3-4365-a576-2da441a08ba9",
        "colab": {
          "base_uri": "https://localhost:8080/",
          "height": 111
        }
      },
      "source": [
        "query = \"\"\"\n",
        "select class, avg(fare) as 'class_average'\n",
        "from Titanic\n",
        "group by class\n",
        "having avg(fare) > 2 * (select avg(fare) from Titanic)\n",
        "or avg(fare) < 0.5 * (select avg(fare) from Titanic)\n",
        "\"\"\"\n",
        "sql_df = pd.read_sql(query, con=db)\n",
        "sql_df"
      ],
      "execution_count": 28,
      "outputs": [
        {
          "output_type": "execute_result",
          "data": {
            "text/html": [
              "<div>\n",
              "<style scoped>\n",
              "    .dataframe tbody tr th:only-of-type {\n",
              "        vertical-align: middle;\n",
              "    }\n",
              "\n",
              "    .dataframe tbody tr th {\n",
              "        vertical-align: top;\n",
              "    }\n",
              "\n",
              "    .dataframe thead th {\n",
              "        text-align: right;\n",
              "    }\n",
              "</style>\n",
              "<table border=\"1\" class=\"dataframe\">\n",
              "  <thead>\n",
              "    <tr style=\"text-align: right;\">\n",
              "      <th></th>\n",
              "      <th>class</th>\n",
              "      <th>class_average</th>\n",
              "    </tr>\n",
              "  </thead>\n",
              "  <tbody>\n",
              "    <tr>\n",
              "      <th>0</th>\n",
              "      <td>1</td>\n",
              "      <td>84.154687</td>\n",
              "    </tr>\n",
              "    <tr>\n",
              "      <th>1</th>\n",
              "      <td>3</td>\n",
              "      <td>13.675550</td>\n",
              "    </tr>\n",
              "  </tbody>\n",
              "</table>\n",
              "</div>"
            ],
            "text/plain": [
              "   class  class_average\n",
              "0      1      84.154687\n",
              "1      3      13.675550"
            ]
          },
          "metadata": {
            "tags": []
          },
          "execution_count": 28
        }
      ]
    },
    {
      "cell_type": "markdown",
      "metadata": {
        "id": "pg0NOeS7BiLr",
        "colab_type": "text"
      },
      "source": [
        "***Question 20:***<br>\n",
        "List each class and its survival rate, i.e., the fraction of passengers in that class who survived. Try to round the number to the 2nd decimal digit."
      ]
    },
    {
      "cell_type": "code",
      "metadata": {
        "id": "Vw-0-b2CCSTg",
        "colab_type": "code",
        "outputId": "e83ff564-9691-4077-fa59-a6d88b5b2aa4",
        "colab": {
          "base_uri": "https://localhost:8080/",
          "height": 142
        }
      },
      "source": [
        "query = \"\"\"\n",
        "select class, sum(survived='yes') as survivals, (sum(survived='yes')+sum(survived='no')) as total,\n",
        "round(1.00*sum(survived='yes')/(sum(survived='yes')+sum(survived='no')),2) as survival_rate\n",
        "from Titanic\n",
        "group by class\n",
        "\"\"\"\n",
        "sql_df = pd.read_sql(query, con=db)\n",
        "sql_df"
      ],
      "execution_count": 29,
      "outputs": [
        {
          "output_type": "execute_result",
          "data": {
            "text/html": [
              "<div>\n",
              "<style scoped>\n",
              "    .dataframe tbody tr th:only-of-type {\n",
              "        vertical-align: middle;\n",
              "    }\n",
              "\n",
              "    .dataframe tbody tr th {\n",
              "        vertical-align: top;\n",
              "    }\n",
              "\n",
              "    .dataframe thead th {\n",
              "        text-align: right;\n",
              "    }\n",
              "</style>\n",
              "<table border=\"1\" class=\"dataframe\">\n",
              "  <thead>\n",
              "    <tr style=\"text-align: right;\">\n",
              "      <th></th>\n",
              "      <th>class</th>\n",
              "      <th>survivals</th>\n",
              "      <th>total</th>\n",
              "      <th>survival_rate</th>\n",
              "    </tr>\n",
              "  </thead>\n",
              "  <tbody>\n",
              "    <tr>\n",
              "      <th>0</th>\n",
              "      <td>1</td>\n",
              "      <td>136</td>\n",
              "      <td>216</td>\n",
              "      <td>0.63</td>\n",
              "    </tr>\n",
              "    <tr>\n",
              "      <th>1</th>\n",
              "      <td>2</td>\n",
              "      <td>87</td>\n",
              "      <td>184</td>\n",
              "      <td>0.47</td>\n",
              "    </tr>\n",
              "    <tr>\n",
              "      <th>2</th>\n",
              "      <td>3</td>\n",
              "      <td>119</td>\n",
              "      <td>491</td>\n",
              "      <td>0.24</td>\n",
              "    </tr>\n",
              "  </tbody>\n",
              "</table>\n",
              "</div>"
            ],
            "text/plain": [
              "   class  survivals  total  survival_rate\n",
              "0      1        136    216           0.63\n",
              "1      2         87    184           0.47\n",
              "2      3        119    491           0.24"
            ]
          },
          "metadata": {
            "tags": []
          },
          "execution_count": 29
        }
      ]
    }
  ]
}